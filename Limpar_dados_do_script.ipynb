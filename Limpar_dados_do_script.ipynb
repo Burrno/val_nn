{
 "cells": [
  {
   "cell_type": "code",
   "execution_count": 14,
   "id": "b835959a-d9a5-47ff-97bc-3211e09e7642",
   "metadata": {},
   "outputs": [
    {
     "name": "stdout",
     "output_type": "stream",
     "text": [
      "Collecting catppuccin-jupyterlab\n",
      "  Obtaining dependency information for catppuccin-jupyterlab from https://files.pythonhosted.org/packages/a5/00/090fa6be87d7caacc1011e514c38389ef146adf76b7b39556f069c028cd9/catppuccin_jupyterlab-0.2.0-py3-none-any.whl.metadata\n",
      "  Downloading catppuccin_jupyterlab-0.2.0-py3-none-any.whl.metadata (6.0 kB)\n",
      "Downloading catppuccin_jupyterlab-0.2.0-py3-none-any.whl (21 kB)\n",
      "Installing collected packages: catppuccin-jupyterlab\n",
      "Successfully installed catppuccin-jupyterlab-0.2.0\n"
     ]
    }
   ],
   "source": [
    "!pip install catppuccin-jupyterlab"
   ]
  },
  {
   "cell_type": "code",
   "execution_count": 1,
   "id": "10f2bc77",
   "metadata": {},
   "outputs": [],
   "source": [
    "import polars as pl, polars.selectors as cs, numpy as np, seaborn as sns\n",
    "import matplotlib.pyplot as plt, matplotlib.colors as clr\n",
    "from tqdm import tqdm\n",
    "import Valorant.functions as val"
   ]
  },
  {
   "cell_type": "code",
   "execution_count": 2,
   "id": "20e97b19",
   "metadata": {},
   "outputs": [
    {
     "name": "stderr",
     "output_type": "stream",
     "text": [
      "100%|███████████████████████████████████████████████████████████████████████████| 20600/20600 [00:45<00:00, 451.03it/s]\n"
     ]
    }
   ],
   "source": [
    "df = pl.read_csv('brutos\\\\todos_os_dados_final.csv', infer_schema_length=0)\n",
    "df = df.select(\n",
    "    ~cs.contains(('Map '))).drop(\n",
    "        ['', 'Unnamed: 0.2', 'Unnamed: 0.1', 'Unnamed: 1'])\n",
    "df = val.processador(df)"
   ]
  },
  {
   "cell_type": "code",
   "execution_count": 3,
   "id": "99d9cf21",
   "metadata": {
    "cell_style": "center"
   },
   "outputs": [],
   "source": [
    "media_jogadores = False\n",
    "media_jogos = False\n",
    "\n",
    "part_consid = 6\n",
    "n = part_consid*5\n",
    "\n",
    "Teams = df.select('Team', 'Player-name')\n",
    "Teams = Teams.group_by('Team').count().filter(\n",
    "    pl.col('count') >= n).get_column('Team').to_list()\n",
    "Teams.remove(None)\n",
    "Teams.remove('VKS')"
   ]
  },
  {
   "cell_type": "code",
   "execution_count": 4,
   "id": "70e4a6bc",
   "metadata": {
    "cell_style": "center"
   },
   "outputs": [
    {
     "name": "stderr",
     "output_type": "stream",
     "text": [
      "100%|████████████████████████████████████████████████████████████████████████████| 15068/15068 [14:33<00:00, 17.25it/s]\n"
     ]
    }
   ],
   "source": [
    "jogos_por_time, df_por_time=  val.indices_df(df, Teams, part_consid, media_jogadores, primeiro=True)\n",
    "\n",
    "for time in Teams:\n",
    "    assert df_por_time[time].shape[0] > 0, ('deu errado no time: ', time)\n",
    "\n",
    "treino, objetivo = val.gerar_treino(df, Teams, part_consid, jogos_por_time, df_por_time, media_jogadores, media_jogos)\n",
    "\n",
    "# treino_media = val.media_jogadores_final(treino)"
   ]
  },
  {
   "cell_type": "code",
   "execution_count": 5,
   "id": "2cdba468-f80b-48b2-88a3-3366f9625896",
   "metadata": {},
   "outputs": [
    {
     "data": {
      "text/html": [
       "<div><style>\n",
       ".dataframe > thead > tr > th,\n",
       ".dataframe > tbody > tr > td {\n",
       "  text-align: right;\n",
       "  white-space: pre-wrap;\n",
       "}\n",
       "</style>\n",
       "<small>shape: (7_467, 721)</small><table border=\"1\" class=\"dataframe\"><thead><tr><th>R_0_0</th><th>R_0_1</th><th>R_0_2</th><th>R_0_3</th><th>R_0_4</th><th>R_0_5</th><th>R_1_0</th><th>R_1_1</th><th>R_1_2</th><th>R_1_3</th><th>R_1_4</th><th>R_1_5</th><th>R_2_0</th><th>R_2_1</th><th>R_2_2</th><th>R_2_3</th><th>R_2_4</th><th>R_2_5</th><th>R_3_0</th><th>R_3_1</th><th>R_3_2</th><th>R_3_3</th><th>R_3_4</th><th>R_3_5</th><th>R_4_0</th><th>R_4_1</th><th>R_4_2</th><th>R_4_3</th><th>R_4_4</th><th>R_4_5</th><th>ACS_0_0</th><th>ACS_0_1</th><th>ACS_0_2</th><th>ACS_0_3</th><th>ACS_0_4</th><th>ACS_0_5</th><th>ACS_1_0</th><th>&hellip;</th><th>FD_4_1_0</th><th>FD_4_1_1</th><th>FD_4_1_2</th><th>FD_4_1_3</th><th>FD_4_1_4</th><th>FD_4_1_5</th><th>FK-FD_0_1_0</th><th>FK-FD_0_1_1</th><th>FK-FD_0_1_2</th><th>FK-FD_0_1_3</th><th>FK-FD_0_1_4</th><th>FK-FD_0_1_5</th><th>FK-FD_1_1_0</th><th>FK-FD_1_1_1</th><th>FK-FD_1_1_2</th><th>FK-FD_1_1_3</th><th>FK-FD_1_1_4</th><th>FK-FD_1_1_5</th><th>FK-FD_2_1_0</th><th>FK-FD_2_1_1</th><th>FK-FD_2_1_2</th><th>FK-FD_2_1_3</th><th>FK-FD_2_1_4</th><th>FK-FD_2_1_5</th><th>FK-FD_3_1_0</th><th>FK-FD_3_1_1</th><th>FK-FD_3_1_2</th><th>FK-FD_3_1_3</th><th>FK-FD_3_1_4</th><th>FK-FD_3_1_5</th><th>FK-FD_4_1_0</th><th>FK-FD_4_1_1</th><th>FK-FD_4_1_2</th><th>FK-FD_4_1_3</th><th>FK-FD_4_1_4</th><th>FK-FD_4_1_5</th><th>Game differential</th></tr><tr><td>f64</td><td>f64</td><td>f64</td><td>f64</td><td>f64</td><td>f64</td><td>f64</td><td>f64</td><td>f64</td><td>f64</td><td>f64</td><td>f64</td><td>f64</td><td>f64</td><td>f64</td><td>f64</td><td>f64</td><td>f64</td><td>f64</td><td>f64</td><td>f64</td><td>f64</td><td>f64</td><td>f64</td><td>f64</td><td>f64</td><td>f64</td><td>f64</td><td>f64</td><td>f64</td><td>f64</td><td>f64</td><td>f64</td><td>f64</td><td>f64</td><td>f64</td><td>f64</td><td>&hellip;</td><td>f64</td><td>f64</td><td>f64</td><td>f64</td><td>f64</td><td>f64</td><td>f64</td><td>f64</td><td>f64</td><td>f64</td><td>f64</td><td>f64</td><td>f64</td><td>f64</td><td>f64</td><td>f64</td><td>f64</td><td>f64</td><td>f64</td><td>f64</td><td>f64</td><td>f64</td><td>f64</td><td>f64</td><td>f64</td><td>f64</td><td>f64</td><td>f64</td><td>f64</td><td>f64</td><td>f64</td><td>f64</td><td>f64</td><td>f64</td><td>f64</td><td>f64</td><td>i64</td></tr></thead><tbody><tr><td>1.4</td><td>0.65</td><td>1.08</td><td>1.63</td><td>1.22</td><td>0.62</td><td>1.42</td><td>1.03</td><td>1.24</td><td>0.8</td><td>1.1</td><td>1.44</td><td>1.97</td><td>0.7</td><td>1.22</td><td>1.45</td><td>1.13</td><td>1.14</td><td>1.69</td><td>1.0</td><td>1.14</td><td>1.35</td><td>1.11</td><td>1.35</td><td>1.25</td><td>0.91</td><td>0.61</td><td>1.37</td><td>0.98</td><td>1.08</td><td>214.0</td><td>137.0</td><td>174.0</td><td>341.0</td><td>222.0</td><td>130.0</td><td>230.0</td><td>&hellip;</td><td>2.0</td><td>4.0</td><td>1.0</td><td>5.0</td><td>6.0</td><td>3.0</td><td>1.0</td><td>-4.0</td><td>-1.0</td><td>0.0</td><td>-1.0</td><td>1.0</td><td>-1.0</td><td>0.0</td><td>-1.0</td><td>5.0</td><td>-6.0</td><td>3.0</td><td>3.0</td><td>-4.0</td><td>3.0</td><td>0.0</td><td>4.0</td><td>2.0</td><td>-2.0</td><td>-1.0</td><td>1.0</td><td>4.0</td><td>1.0</td><td>5.0</td><td>4.0</td><td>-3.0</td><td>1.0</td><td>1.0</td><td>1.0</td><td>7.0</td><td>0</td></tr><tr><td>1.79</td><td>1.32</td><td>1.4</td><td>1.27</td><td>0.99</td><td>0.94</td><td>1.43</td><td>1.66</td><td>1.49</td><td>1.29</td><td>1.15</td><td>1.29</td><td>1.08</td><td>1.33</td><td>1.21</td><td>1.3</td><td>1.32</td><td>1.31</td><td>1.44</td><td>1.6</td><td>1.69</td><td>1.25</td><td>1.1</td><td>0.87</td><td>1.0</td><td>1.11</td><td>1.15</td><td>0.89</td><td>1.18</td><td>0.82</td><td>431.0</td><td>235.0</td><td>321.0</td><td>286.0</td><td>214.0</td><td>251.0</td><td>241.0</td><td>&hellip;</td><td>0.0</td><td>4.0</td><td>2.0</td><td>4.0</td><td>9.0</td><td>0.0</td><td>0.0</td><td>3.0</td><td>-4.0</td><td>-5.0</td><td>6.0</td><td>-1.0</td><td>4.0</td><td>7.0</td><td>6.0</td><td>8.0</td><td>6.0</td><td>4.0</td><td>3.0</td><td>0.0</td><td>-2.0</td><td>-2.0</td><td>2.0</td><td>3.0</td><td>1.0</td><td>1.0</td><td>1.0</td><td>-1.0</td><td>0.0</td><td>3.0</td><td>3.0</td><td>-3.0</td><td>1.0</td><td>-2.0</td><td>-5.0</td><td>5.0</td><td>0</td></tr><tr><td>1.53</td><td>1.05</td><td>0.89</td><td>1.07</td><td>0.71</td><td>0.8</td><td>1.22</td><td>1.31</td><td>1.3</td><td>1.41</td><td>0.7</td><td>1.04</td><td>1.48</td><td>1.21</td><td>0.91</td><td>1.35</td><td>0.9</td><td>0.98</td><td>1.45</td><td>1.03</td><td>1.08</td><td>0.98</td><td>0.84</td><td>0.94</td><td>1.54</td><td>1.1</td><td>1.17</td><td>1.34</td><td>0.94</td><td>1.09</td><td>276.0</td><td>205.0</td><td>173.0</td><td>212.0</td><td>141.0</td><td>169.0</td><td>164.0</td><td>&hellip;</td><td>7.0</td><td>5.0</td><td>12.0</td><td>3.0</td><td>7.0</td><td>4.0</td><td>-3.0</td><td>4.0</td><td>-2.0</td><td>1.0</td><td>3.0</td><td>-5.0</td><td>5.0</td><td>2.0</td><td>0.0</td><td>-6.0</td><td>3.0</td><td>-1.0</td><td>1.0</td><td>3.0</td><td>2.0</td><td>-1.0</td><td>1.0</td><td>1.0</td><td>5.0</td><td>1.0</td><td>7.0</td><td>-7.0</td><td>-1.0</td><td>4.0</td><td>0.0</td><td>-2.0</td><td>-8.0</td><td>4.0</td><td>4.0</td><td>0.0</td><td>0</td></tr><tr><td>1.07</td><td>0.66</td><td>0.98</td><td>0.92</td><td>1.0</td><td>0.93</td><td>1.65</td><td>1.57</td><td>1.41</td><td>1.2</td><td>1.33</td><td>0.92</td><td>1.29</td><td>1.05</td><td>1.03</td><td>1.04</td><td>1.05</td><td>0.68</td><td>1.19</td><td>1.43</td><td>1.15</td><td>1.2</td><td>1.09</td><td>0.8</td><td>1.11</td><td>1.17</td><td>1.28</td><td>0.68</td><td>1.3</td><td>0.81</td><td>195.0</td><td>127.0</td><td>198.0</td><td>185.0</td><td>194.0</td><td>191.0</td><td>334.0</td><td>&hellip;</td><td>4.0</td><td>7.0</td><td>1.0</td><td>6.0</td><td>4.0</td><td>6.0</td><td>2.0</td><td>0.0</td><td>0.0</td><td>-5.0</td><td>0.0</td><td>-3.0</td><td>4.0</td><td>0.0</td><td>-2.0</td><td>-2.0</td><td>3.0</td><td>-1.0</td><td>2.0</td><td>-1.0</td><td>1.0</td><td>-1.0</td><td>3.0</td><td>6.0</td><td>1.0</td><td>1.0</td><td>0.0</td><td>-2.0</td><td>1.0</td><td>5.0</td><td>1.0</td><td>2.0</td><td>4.0</td><td>-4.0</td><td>2.0</td><td>1.0</td><td>0</td></tr><tr><td>1.32</td><td>1.4</td><td>1.27</td><td>0.99</td><td>0.94</td><td>1.43</td><td>1.66</td><td>1.49</td><td>1.29</td><td>1.15</td><td>1.29</td><td>1.24</td><td>1.33</td><td>1.21</td><td>1.3</td><td>1.32</td><td>1.31</td><td>1.08</td><td>1.6</td><td>1.69</td><td>1.25</td><td>1.1</td><td>0.87</td><td>1.06</td><td>1.11</td><td>1.15</td><td>0.89</td><td>1.18</td><td>0.82</td><td>0.93</td><td>235.0</td><td>321.0</td><td>286.0</td><td>214.0</td><td>251.0</td><td>364.0</td><td>305.0</td><td>&hellip;</td><td>7.0</td><td>1.0</td><td>6.0</td><td>4.0</td><td>6.0</td><td>8.0</td><td>0.0</td><td>0.0</td><td>-5.0</td><td>0.0</td><td>-3.0</td><td>0.0</td><td>0.0</td><td>-2.0</td><td>-2.0</td><td>3.0</td><td>-1.0</td><td>-1.0</td><td>-1.0</td><td>1.0</td><td>-1.0</td><td>3.0</td><td>6.0</td><td>-9.0</td><td>1.0</td><td>0.0</td><td>-2.0</td><td>1.0</td><td>5.0</td><td>0.0</td><td>2.0</td><td>4.0</td><td>-4.0</td><td>2.0</td><td>1.0</td><td>-2.0</td><td>-1</td></tr><tr><td>1.6</td><td>0.87</td><td>1.46</td><td>1.07</td><td>1.33</td><td>1.07</td><td>1.69</td><td>0.94</td><td>1.18</td><td>0.96</td><td>1.52</td><td>1.27</td><td>1.16</td><td>0.71</td><td>1.58</td><td>1.04</td><td>1.21</td><td>1.32</td><td>1.47</td><td>0.88</td><td>1.87</td><td>1.44</td><td>1.56</td><td>1.62</td><td>1.25</td><td>0.79</td><td>1.45</td><td>1.24</td><td>1.24</td><td>1.04</td><td>245.0</td><td>200.0</td><td>263.0</td><td>192.0</td><td>243.0</td><td>185.0</td><td>263.0</td><td>&hellip;</td><td>5.0</td><td>6.0</td><td>3.0</td><td>3.0</td><td>1.0</td><td>4.0</td><td>0.0</td><td>-1.0</td><td>1.0</td><td>-1.0</td><td>1.0</td><td>0.0</td><td>2.0</td><td>-4.0</td><td>-5.0</td><td>1.0</td><td>5.0</td><td>2.0</td><td>-3.0</td><td>2.0</td><td>-2.0</td><td>-1.0</td><td>-4.0</td><td>0.0</td><td>1.0</td><td>0.0</td><td>-4.0</td><td>3.0</td><td>0.0</td><td>-5.0</td><td>3.0</td><td>1.0</td><td>-2.0</td><td>2.0</td><td>4.0</td><td>12.0</td><td>0</td></tr><tr><td>0.93</td><td>1.01</td><td>1.12</td><td>1.02</td><td>1.21</td><td>1.29</td><td>0.91</td><td>1.19</td><td>0.95</td><td>0.8</td><td>1.19</td><td>1.33</td><td>1.44</td><td>1.21</td><td>1.21</td><td>1.23</td><td>1.45</td><td>1.45</td><td>0.83</td><td>0.71</td><td>0.96</td><td>0.96</td><td>1.04</td><td>1.34</td><td>1.55</td><td>1.29</td><td>1.2</td><td>1.0</td><td>1.58</td><td>1.0</td><td>127.0</td><td>192.0</td><td>206.0</td><td>240.0</td><td>238.0</td><td>206.0</td><td>270.0</td><td>&hellip;</td><td>6.0</td><td>5.0</td><td>0.0</td><td>2.0</td><td>3.0</td><td>2.0</td><td>2.0</td><td>3.0</td><td>2.0</td><td>3.0</td><td>1.0</td><td>1.0</td><td>0.0</td><td>4.0</td><td>9.0</td><td>7.0</td><td>6.0</td><td>8.0</td><td>-1.0</td><td>-3.0</td><td>2.0</td><td>0.0</td><td>5.0</td><td>0.0</td><td>0.0</td><td>3.0</td><td>-1.0</td><td>0.0</td><td>3.0</td><td>-3.0</td><td>-4.0</td><td>-1.0</td><td>4.0</td><td>2.0</td><td>1.0</td><td>4.0</td><td>0</td></tr><tr><td>1.46</td><td>0.69</td><td>0.85</td><td>0.82</td><td>1.39</td><td>1.37</td><td>0.7</td><td>0.79</td><td>0.9</td><td>0.82</td><td>1.06</td><td>1.29</td><td>1.12</td><td>0.98</td><td>1.07</td><td>1.18</td><td>1.28</td><td>1.97</td><td>1.25</td><td>0.93</td><td>0.97</td><td>1.02</td><td>1.63</td><td>1.58</td><td>1.22</td><td>1.17</td><td>1.09</td><td>1.09</td><td>1.34</td><td>0.93</td><td>244.0</td><td>132.0</td><td>153.0</td><td>182.0</td><td>266.0</td><td>308.0</td><td>110.0</td><td>&hellip;</td><td>7.0</td><td>1.0</td><td>4.0</td><td>3.0</td><td>3.0</td><td>1.0</td><td>-2.0</td><td>6.0</td><td>0.0</td><td>5.0</td><td>3.0</td><td>7.0</td><td>1.0</td><td>0.0</td><td>1.0</td><td>3.0</td><td>-1.0</td><td>5.0</td><td>-2.0</td><td>2.0</td><td>-1.0</td><td>-1.0</td><td>2.0</td><td>1.0</td><td>4.0</td><td>3.0</td><td>4.0</td><td>6.0</td><td>3.0</td><td>-1.0</td><td>-2.0</td><td>1.0</td><td>-1.0</td><td>0.0</td><td>-1.0</td><td>4.0</td><td>-1</td></tr><tr><td>0.7</td><td>1.19</td><td>1.4</td><td>0.98</td><td>1.17</td><td>0.82</td><td>0.71</td><td>0.83</td><td>1.68</td><td>0.98</td><td>1.09</td><td>1.04</td><td>0.69</td><td>1.13</td><td>1.43</td><td>1.28</td><td>1.23</td><td>0.98</td><td>0.55</td><td>1.2</td><td>1.35</td><td>1.02</td><td>1.28</td><td>0.85</td><td>0.75</td><td>1.32</td><td>1.3</td><td>1.07</td><td>1.59</td><td>1.25</td><td>174.0</td><td>214.0</td><td>182.0</td><td>204.0</td><td>183.0</td><td>168.0</td><td>154.0</td><td>&hellip;</td><td>1.0</td><td>1.0</td><td>5.0</td><td>7.0</td><td>1.0</td><td>2.0</td><td>-2.0</td><td>2.0</td><td>5.0</td><td>2.0</td><td>8.0</td><td>2.0</td><td>-4.0</td><td>0.0</td><td>1.0</td><td>3.0</td><td>2.0</td><td>4.0</td><td>-1.0</td><td>6.0</td><td>-1.0</td><td>3.0</td><td>2.0</td><td>2.0</td><td>-5.0</td><td>-2.0</td><td>4.0</td><td>-4.0</td><td>-4.0</td><td>1.0</td><td>2.0</td><td>2.0</td><td>-2.0</td><td>-3.0</td><td>1.0</td><td>4.0</td><td>1</td></tr><tr><td>0.65</td><td>1.08</td><td>1.63</td><td>1.22</td><td>0.62</td><td>1.08</td><td>1.03</td><td>1.24</td><td>0.8</td><td>1.1</td><td>1.44</td><td>1.05</td><td>0.7</td><td>1.22</td><td>1.45</td><td>1.13</td><td>1.14</td><td>0.96</td><td>1.0</td><td>1.14</td><td>1.35</td><td>1.11</td><td>1.35</td><td>0.8</td><td>0.91</td><td>0.61</td><td>1.37</td><td>0.98</td><td>1.08</td><td>1.16</td><td>137.0</td><td>174.0</td><td>341.0</td><td>222.0</td><td>130.0</td><td>177.0</td><td>249.0</td><td>&hellip;</td><td>1.0</td><td>5.0</td><td>6.0</td><td>3.0</td><td>4.0</td><td>7.0</td><td>-1.0</td><td>0.0</td><td>-1.0</td><td>1.0</td><td>-2.0</td><td>0.0</td><td>-1.0</td><td>5.0</td><td>-6.0</td><td>3.0</td><td>3.0</td><td>1.0</td><td>3.0</td><td>0.0</td><td>4.0</td><td>2.0</td><td>6.0</td><td>3.0</td><td>1.0</td><td>4.0</td><td>1.0</td><td>5.0</td><td>-4.0</td><td>3.0</td><td>1.0</td><td>1.0</td><td>1.0</td><td>7.0</td><td>10.0</td><td>-2.0</td><td>-1</td></tr><tr><td>0.9</td><td>1.18</td><td>1.06</td><td>0.66</td><td>0.94</td><td>1.46</td><td>1.12</td><td>0.96</td><td>1.15</td><td>0.75</td><td>0.93</td><td>1.68</td><td>1.3</td><td>1.6</td><td>1.05</td><td>0.66</td><td>0.84</td><td>1.27</td><td>0.97</td><td>1.33</td><td>1.03</td><td>0.71</td><td>1.1</td><td>1.02</td><td>1.1</td><td>1.37</td><td>1.18</td><td>0.87</td><td>1.02</td><td>0.98</td><td>209.0</td><td>192.0</td><td>247.0</td><td>180.0</td><td>237.0</td><td>397.0</td><td>211.0</td><td>&hellip;</td><td>5.0</td><td>3.0</td><td>4.0</td><td>1.0</td><td>0.0</td><td>2.0</td><td>-6.0</td><td>0.0</td><td>4.0</td><td>1.0</td><td>0.0</td><td>2.0</td><td>1.0</td><td>5.0</td><td>-3.0</td><td>5.0</td><td>-4.0</td><td>7.0</td><td>0.0</td><td>3.0</td><td>0.0</td><td>5.0</td><td>2.0</td><td>10.0</td><td>-1.0</td><td>3.0</td><td>-2.0</td><td>1.0</td><td>-2.0</td><td>1.0</td><td>-4.0</td><td>-3.0</td><td>1.0</td><td>2.0</td><td>4.0</td><td>2.0</td><td>0</td></tr><tr><td>1.01</td><td>1.12</td><td>1.02</td><td>1.21</td><td>1.29</td><td>1.06</td><td>1.19</td><td>0.95</td><td>0.8</td><td>1.19</td><td>1.33</td><td>1.19</td><td>1.21</td><td>1.21</td><td>1.23</td><td>1.45</td><td>1.45</td><td>1.39</td><td>0.71</td><td>0.96</td><td>0.96</td><td>1.04</td><td>1.34</td><td>0.99</td><td>1.29</td><td>1.2</td><td>1.0</td><td>1.58</td><td>1.0</td><td>1.47</td><td>192.0</td><td>206.0</td><td>240.0</td><td>238.0</td><td>206.0</td><td>193.0</td><td>239.0</td><td>&hellip;</td><td>11.0</td><td>3.0</td><td>3.0</td><td>0.0</td><td>6.0</td><td>5.0</td><td>0.0</td><td>3.0</td><td>-2.0</td><td>0.0</td><td>0.0</td><td>2.0</td><td>-2.0</td><td>-4.0</td><td>-4.0</td><td>-1.0</td><td>-1.0</td><td>-1.0</td><td>1.0</td><td>-5.0</td><td>1.0</td><td>7.0</td><td>2.0</td><td>3.0</td><td>0.0</td><td>1.0</td><td>0.0</td><td>5.0</td><td>4.0</td><td>1.0</td><td>-3.0</td><td>4.0</td><td>1.0</td><td>4.0</td><td>-1.0</td><td>4.0</td><td>1</td></tr><tr><td>&hellip;</td><td>&hellip;</td><td>&hellip;</td><td>&hellip;</td><td>&hellip;</td><td>&hellip;</td><td>&hellip;</td><td>&hellip;</td><td>&hellip;</td><td>&hellip;</td><td>&hellip;</td><td>&hellip;</td><td>&hellip;</td><td>&hellip;</td><td>&hellip;</td><td>&hellip;</td><td>&hellip;</td><td>&hellip;</td><td>&hellip;</td><td>&hellip;</td><td>&hellip;</td><td>&hellip;</td><td>&hellip;</td><td>&hellip;</td><td>&hellip;</td><td>&hellip;</td><td>&hellip;</td><td>&hellip;</td><td>&hellip;</td><td>&hellip;</td><td>&hellip;</td><td>&hellip;</td><td>&hellip;</td><td>&hellip;</td><td>&hellip;</td><td>&hellip;</td><td>&hellip;</td><td>&hellip;</td><td>&hellip;</td><td>&hellip;</td><td>&hellip;</td><td>&hellip;</td><td>&hellip;</td><td>&hellip;</td><td>&hellip;</td><td>&hellip;</td><td>&hellip;</td><td>&hellip;</td><td>&hellip;</td><td>&hellip;</td><td>&hellip;</td><td>&hellip;</td><td>&hellip;</td><td>&hellip;</td><td>&hellip;</td><td>&hellip;</td><td>&hellip;</td><td>&hellip;</td><td>&hellip;</td><td>&hellip;</td><td>&hellip;</td><td>&hellip;</td><td>&hellip;</td><td>&hellip;</td><td>&hellip;</td><td>&hellip;</td><td>&hellip;</td><td>&hellip;</td><td>&hellip;</td><td>&hellip;</td><td>&hellip;</td><td>&hellip;</td><td>&hellip;</td><td>&hellip;</td><td>&hellip;</td></tr><tr><td>0.84</td><td>0.79</td><td>1.3</td><td>1.0</td><td>1.49</td><td>1.31</td><td>1.09</td><td>0.97</td><td>0.99</td><td>0.96</td><td>0.71</td><td>0.93</td><td>1.22</td><td>0.98</td><td>0.9</td><td>1.08</td><td>1.05</td><td>1.04</td><td>1.01</td><td>0.83</td><td>1.55</td><td>1.09</td><td>1.08</td><td>1.12</td><td>1.22</td><td>0.93</td><td>1.52</td><td>1.0</td><td>1.31</td><td>0.89</td><td>183.0</td><td>193.0</td><td>260.0</td><td>210.0</td><td>307.0</td><td>273.0</td><td>213.0</td><td>&hellip;</td><td>6.0</td><td>5.0</td><td>2.0</td><td>1.0</td><td>4.0</td><td>9.0</td><td>-2.0</td><td>-2.0</td><td>0.0</td><td>-4.0</td><td>-1.0</td><td>4.0</td><td>1.0</td><td>2.0</td><td>-1.0</td><td>0.0</td><td>-1.0</td><td>0.0</td><td>5.0</td><td>3.0</td><td>2.0</td><td>11.0</td><td>-3.0</td><td>-3.0</td><td>1.0</td><td>1.0</td><td>3.0</td><td>3.0</td><td>-3.0</td><td>3.0</td><td>-3.0</td><td>-4.0</td><td>4.0</td><td>3.0</td><td>0.0</td><td>-4.0</td><td>30</td></tr><tr><td>1.09</td><td>0.79</td><td>1.11</td><td>0.84</td><td>1.08</td><td>0.7</td><td>1.52</td><td>0.91</td><td>1.3</td><td>1.03</td><td>0.97</td><td>1.0</td><td>0.98</td><td>0.63</td><td>1.28</td><td>0.86</td><td>0.92</td><td>0.89</td><td>1.07</td><td>0.96</td><td>1.05</td><td>0.92</td><td>1.36</td><td>0.94</td><td>0.92</td><td>1.02</td><td>1.13</td><td>1.02</td><td>1.21</td><td>1.01</td><td>218.0</td><td>211.0</td><td>180.0</td><td>171.0</td><td>213.0</td><td>155.0</td><td>306.0</td><td>&hellip;</td><td>12.0</td><td>9.0</td><td>6.0</td><td>6.0</td><td>4.0</td><td>3.0</td><td>-7.0</td><td>1.0</td><td>-3.0</td><td>-4.0</td><td>-3.0</td><td>1.0</td><td>0.0</td><td>-3.0</td><td>-5.0</td><td>0.0</td><td>-5.0</td><td>5.0</td><td>-5.0</td><td>3.0</td><td>13.0</td><td>8.0</td><td>4.0</td><td>6.0</td><td>-4.0</td><td>2.0</td><td>1.0</td><td>-1.0</td><td>1.0</td><td>5.0</td><td>-3.0</td><td>-5.0</td><td>-3.0</td><td>-2.0</td><td>-1.0</td><td>-1.0</td><td>29</td></tr><tr><td>0.73</td><td>0.91</td><td>1.14</td><td>1.17</td><td>1.09</td><td>1.44</td><td>0.55</td><td>0.95</td><td>0.7</td><td>0.95</td><td>0.76</td><td>0.87</td><td>0.98</td><td>1.0</td><td>0.83</td><td>1.02</td><td>1.04</td><td>1.15</td><td>0.88</td><td>0.77</td><td>0.76</td><td>1.05</td><td>1.18</td><td>1.19</td><td>0.69</td><td>1.14</td><td>0.94</td><td>1.03</td><td>0.93</td><td>1.31</td><td>156.0</td><td>186.0</td><td>233.0</td><td>197.0</td><td>218.0</td><td>245.0</td><td>153.0</td><td>&hellip;</td><td>3.0</td><td>2.0</td><td>3.0</td><td>2.0</td><td>1.0</td><td>2.0</td><td>0.0</td><td>5.0</td><td>5.0</td><td>2.0</td><td>2.0</td><td>1.0</td><td>1.0</td><td>3.0</td><td>4.0</td><td>-2.0</td><td>5.0</td><td>3.0</td><td>5.0</td><td>1.0</td><td>0.0</td><td>1.0</td><td>2.0</td><td>1.0</td><td>-6.0</td><td>0.0</td><td>0.0</td><td>1.0</td><td>4.0</td><td>7.0</td><td>0.0</td><td>5.0</td><td>2.0</td><td>-1.0</td><td>3.0</td><td>2.0</td><td>-55</td></tr><tr><td>0.8</td><td>1.26</td><td>1.26</td><td>1.72</td><td>1.11</td><td>0.84</td><td>1.2</td><td>1.06</td><td>1.53</td><td>1.21</td><td>1.16</td><td>1.05</td><td>0.9</td><td>1.26</td><td>1.35</td><td>1.48</td><td>1.29</td><td>1.2</td><td>1.12</td><td>1.24</td><td>1.03</td><td>1.16</td><td>1.15</td><td>1.29</td><td>1.31</td><td>1.18</td><td>1.04</td><td>1.3</td><td>1.27</td><td>1.02</td><td>196.0</td><td>264.0</td><td>249.0</td><td>331.0</td><td>257.0</td><td>177.0</td><td>243.0</td><td>&hellip;</td><td>6.0</td><td>1.0</td><td>6.0</td><td>2.0</td><td>4.0</td><td>4.0</td><td>4.0</td><td>2.0</td><td>-1.0</td><td>-2.0</td><td>-3.0</td><td>0.0</td><td>-2.0</td><td>5.0</td><td>-1.0</td><td>8.0</td><td>3.0</td><td>-2.0</td><td>-4.0</td><td>5.0</td><td>-3.0</td><td>2.0</td><td>-4.0</td><td>2.0</td><td>5.0</td><td>4.0</td><td>1.0</td><td>5.0</td><td>1.0</td><td>-2.0</td><td>-2.0</td><td>0.0</td><td>-4.0</td><td>2.0</td><td>1.0</td><td>1.0</td><td>55</td></tr><tr><td>1.28</td><td>0.86</td><td>1.14</td><td>0.62</td><td>0.87</td><td>1.09</td><td>1.19</td><td>1.2</td><td>1.36</td><td>0.97</td><td>0.71</td><td>1.27</td><td>1.41</td><td>0.99</td><td>0.98</td><td>0.86</td><td>0.87</td><td>0.98</td><td>1.2</td><td>1.12</td><td>0.95</td><td>0.98</td><td>0.81</td><td>1.19</td><td>1.24</td><td>0.92</td><td>0.98</td><td>0.6</td><td>0.64</td><td>1.16</td><td>204.0</td><td>149.0</td><td>211.0</td><td>131.0</td><td>185.0</td><td>204.0</td><td>250.0</td><td>&hellip;</td><td>2.0</td><td>6.0</td><td>6.0</td><td>4.0</td><td>8.0</td><td>0.0</td><td>0.0</td><td>5.0</td><td>2.0</td><td>1.0</td><td>0.0</td><td>2.0</td><td>1.0</td><td>-3.0</td><td>-5.0</td><td>0.0</td><td>-3.0</td><td>0.0</td><td>5.0</td><td>0.0</td><td>1.0</td><td>2.0</td><td>-2.0</td><td>0.0</td><td>-1.0</td><td>-4.0</td><td>-1.0</td><td>-4.0</td><td>7.0</td><td>6.0</td><td>3.0</td><td>3.0</td><td>-2.0</td><td>-1.0</td><td>-4.0</td><td>6.0</td><td>57</td></tr><tr><td>1.53</td><td>1.19</td><td>1.5</td><td>1.37</td><td>1.48</td><td>0.99</td><td>1.16</td><td>0.91</td><td>1.02</td><td>1.11</td><td>0.78</td><td>1.02</td><td>1.41</td><td>1.16</td><td>1.36</td><td>1.39</td><td>1.22</td><td>1.54</td><td>1.24</td><td>1.16</td><td>1.3</td><td>1.25</td><td>1.09</td><td>1.27</td><td>1.07</td><td>1.1</td><td>1.09</td><td>1.22</td><td>1.15</td><td>1.57</td><td>299.0</td><td>223.0</td><td>271.0</td><td>244.0</td><td>297.0</td><td>205.0</td><td>192.0</td><td>&hellip;</td><td>3.0</td><td>2.0</td><td>3.0</td><td>3.0</td><td>3.0</td><td>1.0</td><td>-2.0</td><td>-6.0</td><td>0.0</td><td>2.0</td><td>2.0</td><td>1.0</td><td>-1.0</td><td>0.0</td><td>-5.0</td><td>6.0</td><td>-4.0</td><td>-1.0</td><td>11.0</td><td>0.0</td><td>0.0</td><td>6.0</td><td>3.0</td><td>-3.0</td><td>3.0</td><td>-2.0</td><td>-1.0</td><td>-1.0</td><td>-1.0</td><td>0.0</td><td>0.0</td><td>0.0</td><td>-2.0</td><td>2.0</td><td>1.0</td><td>0.0</td><td>-20</td></tr><tr><td>1.01</td><td>1.06</td><td>0.83</td><td>0.61</td><td>0.62</td><td>1.05</td><td>1.21</td><td>1.02</td><td>1.07</td><td>1.06</td><td>1.18</td><td>1.44</td><td>1.08</td><td>0.9</td><td>1.21</td><td>0.87</td><td>1.23</td><td>1.0</td><td>0.92</td><td>1.26</td><td>1.19</td><td>1.0</td><td>0.73</td><td>1.1</td><td>1.31</td><td>0.89</td><td>1.05</td><td>0.73</td><td>1.14</td><td>1.14</td><td>185.0</td><td>207.0</td><td>180.0</td><td>173.0</td><td>114.0</td><td>227.0</td><td>209.0</td><td>&hellip;</td><td>6.0</td><td>3.0</td><td>4.0</td><td>11.0</td><td>11.0</td><td>9.0</td><td>-1.0</td><td>0.0</td><td>-3.0</td><td>-1.0</td><td>-3.0</td><td>0.0</td><td>-1.0</td><td>-1.0</td><td>2.0</td><td>-5.0</td><td>3.0</td><td>0.0</td><td>-3.0</td><td>-1.0</td><td>-1.0</td><td>1.0</td><td>-2.0</td><td>-1.0</td><td>3.0</td><td>-1.0</td><td>0.0</td><td>1.0</td><td>-6.0</td><td>1.0</td><td>7.0</td><td>3.0</td><td>1.0</td><td>-4.0</td><td>-3.0</td><td>7.0</td><td>-28</td></tr><tr><td>1.26</td><td>1.16</td><td>1.32</td><td>0.95</td><td>1.25</td><td>1.55</td><td>1.17</td><td>1.25</td><td>1.49</td><td>0.73</td><td>1.39</td><td>1.14</td><td>1.09</td><td>1.04</td><td>0.99</td><td>0.75</td><td>0.96</td><td>1.35</td><td>1.1</td><td>0.9</td><td>0.83</td><td>0.89</td><td>1.45</td><td>1.32</td><td>1.0</td><td>0.96</td><td>1.01</td><td>0.76</td><td>1.29</td><td>1.02</td><td>277.0</td><td>226.0</td><td>266.0</td><td>233.0</td><td>197.0</td><td>284.0</td><td>234.0</td><td>&hellip;</td><td>9.0</td><td>2.0</td><td>3.0</td><td>11.0</td><td>6.0</td><td>4.0</td><td>-3.0</td><td>-4.0</td><td>0.0</td><td>3.0</td><td>2.0</td><td>1.0</td><td>5.0</td><td>4.0</td><td>2.0</td><td>2.0</td><td>0.0</td><td>-1.0</td><td>8.0</td><td>-2.0</td><td>3.0</td><td>4.0</td><td>0.0</td><td>4.0</td><td>-3.0</td><td>5.0</td><td>4.0</td><td>0.0</td><td>-4.0</td><td>3.0</td><td>-2.0</td><td>4.0</td><td>3.0</td><td>-9.0</td><td>2.0</td><td>4.0</td><td>-61</td></tr><tr><td>1.15</td><td>1.32</td><td>0.88</td><td>1.08</td><td>0.79</td><td>1.08</td><td>1.26</td><td>1.29</td><td>0.95</td><td>0.94</td><td>0.65</td><td>1.1</td><td>1.29</td><td>1.02</td><td>0.94</td><td>0.98</td><td>0.59</td><td>1.21</td><td>1.53</td><td>1.53</td><td>1.42</td><td>0.87</td><td>0.51</td><td>1.01</td><td>1.12</td><td>1.26</td><td>1.41</td><td>1.02</td><td>0.5</td><td>1.01</td><td>208.0</td><td>222.0</td><td>197.0</td><td>259.0</td><td>210.0</td><td>190.0</td><td>230.0</td><td>&hellip;</td><td>3.0</td><td>4.0</td><td>2.0</td><td>1.0</td><td>5.0</td><td>2.0</td><td>-1.0</td><td>1.0</td><td>1.0</td><td>-1.0</td><td>-2.0</td><td>-4.0</td><td>5.0</td><td>0.0</td><td>6.0</td><td>-3.0</td><td>3.0</td><td>0.0</td><td>2.0</td><td>3.0</td><td>4.0</td><td>-1.0</td><td>2.0</td><td>8.0</td><td>3.0</td><td>-2.0</td><td>-1.0</td><td>0.0</td><td>-1.0</td><td>1.0</td><td>-1.0</td><td>0.0</td><td>0.0</td><td>5.0</td><td>-2.0</td><td>4.0</td><td>4</td></tr><tr><td>0.96</td><td>1.42</td><td>1.23</td><td>0.8</td><td>0.9</td><td>0.75</td><td>1.19</td><td>1.28</td><td>1.02</td><td>1.09</td><td>0.8</td><td>0.6</td><td>0.9</td><td>1.43</td><td>1.41</td><td>1.02</td><td>1.2</td><td>0.73</td><td>0.91</td><td>1.35</td><td>1.15</td><td>1.01</td><td>1.18</td><td>0.87</td><td>0.95</td><td>1.18</td><td>1.04</td><td>0.94</td><td>1.04</td><td>0.74</td><td>169.0</td><td>195.0</td><td>291.0</td><td>189.0</td><td>202.0</td><td>156.0</td><td>282.0</td><td>&hellip;</td><td>3.0</td><td>3.0</td><td>3.0</td><td>7.0</td><td>0.0</td><td>1.0</td><td>-4.0</td><td>0.0</td><td>0.0</td><td>-1.0</td><td>0.0</td><td>3.0</td><td>-1.0</td><td>-5.0</td><td>-1.0</td><td>-1.0</td><td>-6.0</td><td>-2.0</td><td>-2.0</td><td>0.0</td><td>5.0</td><td>5.0</td><td>3.0</td><td>0.0</td><td>-5.0</td><td>2.0</td><td>5.0</td><td>1.0</td><td>-6.0</td><td>7.0</td><td>1.0</td><td>-3.0</td><td>3.0</td><td>-5.0</td><td>1.0</td><td>4.0</td><td>-16</td></tr><tr><td>0.84</td><td>1.18</td><td>0.94</td><td>0.95</td><td>1.11</td><td>0.97</td><td>1.04</td><td>0.81</td><td>0.9</td><td>0.94</td><td>0.87</td><td>0.74</td><td>0.96</td><td>1.08</td><td>1.08</td><td>1.25</td><td>0.98</td><td>0.96</td><td>0.87</td><td>1.31</td><td>1.27</td><td>0.98</td><td>1.21</td><td>0.96</td><td>1.08</td><td>0.84</td><td>1.36</td><td>0.94</td><td>0.95</td><td>0.63</td><td>175.0</td><td>231.0</td><td>218.0</td><td>183.0</td><td>207.0</td><td>186.0</td><td>232.0</td><td>&hellip;</td><td>3.0</td><td>4.0</td><td>11.0</td><td>11.0</td><td>9.0</td><td>7.0</td><td>0.0</td><td>-3.0</td><td>-1.0</td><td>-3.0</td><td>0.0</td><td>-3.0</td><td>-1.0</td><td>2.0</td><td>-5.0</td><td>3.0</td><td>0.0</td><td>3.0</td><td>-1.0</td><td>-1.0</td><td>1.0</td><td>-2.0</td><td>-1.0</td><td>-4.0</td><td>-1.0</td><td>0.0</td><td>1.0</td><td>-6.0</td><td>1.0</td><td>-1.0</td><td>3.0</td><td>1.0</td><td>-4.0</td><td>-3.0</td><td>7.0</td><td>2.0</td><td>21</td></tr><tr><td>0.74</td><td>1.22</td><td>1.07</td><td>1.1</td><td>1.42</td><td>0.71</td><td>1.47</td><td>1.36</td><td>0.99</td><td>1.02</td><td>1.27</td><td>0.97</td><td>1.08</td><td>1.6</td><td>0.96</td><td>1.31</td><td>1.44</td><td>0.98</td><td>1.49</td><td>1.69</td><td>0.76</td><td>0.95</td><td>1.38</td><td>0.86</td><td>1.26</td><td>1.34</td><td>0.74</td><td>0.94</td><td>1.56</td><td>0.92</td><td>139.0</td><td>188.0</td><td>232.0</td><td>211.0</td><td>278.0</td><td>170.0</td><td>200.0</td><td>&hellip;</td><td>4.0</td><td>2.0</td><td>1.0</td><td>5.0</td><td>2.0</td><td>5.0</td><td>1.0</td><td>1.0</td><td>-1.0</td><td>-2.0</td><td>-4.0</td><td>-2.0</td><td>0.0</td><td>6.0</td><td>-3.0</td><td>3.0</td><td>0.0</td><td>0.0</td><td>3.0</td><td>4.0</td><td>-1.0</td><td>2.0</td><td>8.0</td><td>4.0</td><td>-2.0</td><td>-1.0</td><td>0.0</td><td>-1.0</td><td>1.0</td><td>-1.0</td><td>0.0</td><td>0.0</td><td>5.0</td><td>-2.0</td><td>4.0</td><td>-2.0</td><td>22</td></tr></tbody></table></div>"
      ],
      "text/plain": [
       "shape: (7_467, 721)\n",
       "┌───────┬───────┬───────┬───────┬───┬─────────────┬─────────────┬─────────────┬───────────────────┐\n",
       "│ R_0_0 ┆ R_0_1 ┆ R_0_2 ┆ R_0_3 ┆ … ┆ FK-FD_4_1_3 ┆ FK-FD_4_1_4 ┆ FK-FD_4_1_5 ┆ Game differential │\n",
       "│ ---   ┆ ---   ┆ ---   ┆ ---   ┆   ┆ ---         ┆ ---         ┆ ---         ┆ ---               │\n",
       "│ f64   ┆ f64   ┆ f64   ┆ f64   ┆   ┆ f64         ┆ f64         ┆ f64         ┆ i64               │\n",
       "╞═══════╪═══════╪═══════╪═══════╪═══╪═════════════╪═════════════╪═════════════╪═══════════════════╡\n",
       "│ 1.4   ┆ 0.65  ┆ 1.08  ┆ 1.63  ┆ … ┆ 1.0         ┆ 1.0         ┆ 7.0         ┆ 0                 │\n",
       "│ 1.79  ┆ 1.32  ┆ 1.4   ┆ 1.27  ┆ … ┆ -2.0        ┆ -5.0        ┆ 5.0         ┆ 0                 │\n",
       "│ 1.53  ┆ 1.05  ┆ 0.89  ┆ 1.07  ┆ … ┆ 4.0         ┆ 4.0         ┆ 0.0         ┆ 0                 │\n",
       "│ 1.07  ┆ 0.66  ┆ 0.98  ┆ 0.92  ┆ … ┆ -4.0        ┆ 2.0         ┆ 1.0         ┆ 0                 │\n",
       "│ …     ┆ …     ┆ …     ┆ …     ┆ … ┆ …           ┆ …           ┆ …           ┆ …                 │\n",
       "│ 1.15  ┆ 1.32  ┆ 0.88  ┆ 1.08  ┆ … ┆ 5.0         ┆ -2.0        ┆ 4.0         ┆ 4                 │\n",
       "│ 0.96  ┆ 1.42  ┆ 1.23  ┆ 0.8   ┆ … ┆ -5.0        ┆ 1.0         ┆ 4.0         ┆ -16               │\n",
       "│ 0.84  ┆ 1.18  ┆ 0.94  ┆ 0.95  ┆ … ┆ -3.0        ┆ 7.0         ┆ 2.0         ┆ 21                │\n",
       "│ 0.74  ┆ 1.22  ┆ 1.07  ┆ 1.1   ┆ … ┆ -2.0        ┆ 4.0         ┆ -2.0        ┆ 22                │\n",
       "└───────┴───────┴───────┴───────┴───┴─────────────┴─────────────┴─────────────┴───────────────────┘"
      ]
     },
     "execution_count": 5,
     "metadata": {},
     "output_type": "execute_result"
    }
   ],
   "source": [
    "treino"
   ]
  },
  {
   "cell_type": "code",
   "execution_count": 6,
   "id": "c2368cf1",
   "metadata": {
    "cell_style": "split",
    "scrolled": true
   },
   "outputs": [
    {
     "name": "stderr",
     "output_type": "stream",
     "text": [
      "100%|██████████████████████████████████████████████████████████████████████████████| 252/252 [00:00<00:00, 1968.25it/s]\n",
      "100%|████████████████████████████████████████████████████████████████████████████████| 250/250 [00:15<00:00, 15.67it/s]\n"
     ]
    }
   ],
   "source": [
    "df2 = pl.read_csv('brutos/segunda_leva.csv', infer_schema_length=0)\n",
    "df2 = df2.select(\n",
    "    ~cs.contains(('Map '))).drop(['', 'Unnamed: 1'])\n",
    "\n",
    "df2 = val.processador(df2)\n",
    "\n",
    "jogos_por_time2 = val.indices_df(df2, Teams, part_consid, media_jogadores, primeiro=False)\n",
    "\n",
    "valid1, objetivo_valid1 = val.gerar_treino(df2, Teams, part_consid, jogos_por_time2, df_por_time, media_jogadores, media_jogos)\n",
    "\n",
    "# valid1 = val.media_jogadores_final(valid1)"
   ]
  },
  {
   "cell_type": "code",
   "execution_count": 7,
   "id": "a87d53ed",
   "metadata": {
    "cell_style": "split",
    "scrolled": true
   },
   "outputs": [
    {
     "name": "stderr",
     "output_type": "stream",
     "text": [
      "100%|██████████████████████████████████████████████████████████████████████████████| 293/293 [00:00<00:00, 1945.59it/s]\n",
      "100%|████████████████████████████████████████████████████████████████████████████████| 275/275 [00:14<00:00, 19.34it/s]\n"
     ]
    }
   ],
   "source": [
    "df3 = pl.read_csv('brutos/terceira_leva.csv', infer_schema_length=0)\n",
    "df3 = df3.select(\n",
    "    ~cs.contains(('Map '))).drop(['', 'Unnamed: 1'])\n",
    "\n",
    "df3 = val.processador(df3)\n",
    "\n",
    "jogos_por_time3 = val.indices_df(df3, Teams, part_consid, media_jogadores, primeiro=False)\n",
    "\n",
    "valid2, objetivo_valid2 = val.gerar_treino(df3, Teams, part_consid, jogos_por_time3, df_por_time, media_jogadores, media_jogos)\n",
    "\n",
    "# valid2 = val.media_jogadores_final(valid2)"
   ]
  },
  {
   "cell_type": "code",
   "execution_count": 8,
   "id": "6793c1a1",
   "metadata": {},
   "outputs": [],
   "source": [
    "validacao = pl.concat([valid1, valid2])\n",
    "objetivo_validacao = pl.concat([objetivo_valid1, objetivo_valid2])"
   ]
  },
  {
   "cell_type": "code",
   "execution_count": 10,
   "id": "8cfea976",
   "metadata": {},
   "outputs": [],
   "source": [
    "pl.concat([treino, objetivo], how='horizontal').write_csv('processados/treino-teste_full_'+str(part_consid)+'_partidas.csv')\n",
    "pl.concat([validacao, objetivo_validacao], how='horizontal').write_csv('processados/valida_full_'+str(part_consid)+'_partidas.csv')"
   ]
  },
  {
   "cell_type": "code",
   "execution_count": null,
   "id": "184b31eb",
   "metadata": {},
   "outputs": [],
   "source": []
  },
  {
   "cell_type": "code",
   "execution_count": null,
   "id": "cf641d09",
   "metadata": {},
   "outputs": [],
   "source": []
  },
  {
   "cell_type": "code",
   "execution_count": null,
   "id": "19cea679",
   "metadata": {},
   "outputs": [],
   "source": [
    "# plt.figure(figsize=(15,15)) \n",
    "# sns.heatmap(pl.concat([treino_media, objetivo], how='horizontal').corr(), cmap='cividis', xticklabels=treino_media.columns+['resultado'], yticklabels=treino_media.columns+['resultado'])"
   ]
  },
  {
   "cell_type": "code",
   "execution_count": null,
   "id": "497cbcd2",
   "metadata": {},
   "outputs": [],
   "source": [
    "from numba import jit\n",
    "\n",
    "\n",
    "@jit(nopython=True)\n",
    "def correlation_ratio(categories, values):\n",
    "    ssw = 0\n",
    "    ssb = 0\n",
    "    for category in set(categories):\n",
    "        subgroup = values[np.where(categories == category)[0]]\n",
    "        ssw += sum((subgroup-np.mean(subgroup))**2)\n",
    "        ssb += len(subgroup)*(np.mean(subgroup)-np.mean(values))**2\n",
    "\n",
    "    return (ssb / (ssb + ssw))**.5"
   ]
  },
  {
   "cell_type": "code",
   "execution_count": null,
   "id": "6706207d",
   "metadata": {
    "scrolled": true
   },
   "outputs": [],
   "source": [
    "import random\n",
    "i = 0\n",
    "while i < 0.5:\n",
    "    col1, col2 = random.sample(treino_media.columns, 2)\n",
    "    results = np.empty([1000, 100])\n",
    "    for alpha in range(1, 10000, 10):\n",
    "        for beta in range(1, 1000, 10):\n",
    "            soma = np.array((treino_media\n",
    "                             .with_columns(pl.sum(alpha*pl.col(col1)/10, beta*pl.col(col2)/10))\n",
    "                             )['sum'])\n",
    "            results[alpha//10][beta //\n",
    "                               10] = correlation_ratio(np.ravel(np.array(objetivo)), soma)\n",
    "    i = results.max()\n",
    "    print(i, col1, col2)"
   ]
  },
  {
   "cell_type": "code",
   "execution_count": null,
   "id": "827710b0",
   "metadata": {},
   "outputs": [],
   "source": [
    "X = np.arange(1, 10000, 10)\n",
    "Y = np.arange(1, 1000, 10)\n",
    "X, Y = np.meshgrid(X, Y)\n",
    "\n",
    "fig, (ax1, ax2) = plt.subplots(2, 2, figsize=(\n",
    "    15, 15), subplot_kw={\"projection\": \"3d\"})\n",
    "ax1[0].plot_surface(X, Y, results.T, vmin=results.min(), cmap='cividis')\n",
    "ax1[0].view_init(30, 190)\n",
    "ax2[0].plot_surface(X, Y, results.T, vmin=results.min(), cmap='cividis')\n",
    "ax2[0].view_init(30, 280)\n",
    "ax1[1].plot_surface(X, Y, results.T, vmin=results.min(), cmap='cividis')\n",
    "ax1[1].view_init(30, 100)\n",
    "ax2[1].plot_surface(X, Y, results.T, vmin=results.min(), cmap='cividis')\n",
    "ax2[1].view_init(30, 10)\n",
    "[ax.set_xlabel('alpha') for ax in list(ax1) + list(ax2)]\n",
    "[ax.set_ylabel('beta') for ax in list(ax1) + list(ax2)]\n",
    "\n",
    "\n",
    "plt.show()"
   ]
  },
  {
   "cell_type": "code",
   "execution_count": null,
   "id": "3e1155c2",
   "metadata": {},
   "outputs": [],
   "source": []
  },
  {
   "cell_type": "code",
   "execution_count": null,
   "id": "298fc8cb",
   "metadata": {},
   "outputs": [],
   "source": []
  },
  {
   "cell_type": "code",
   "execution_count": 3,
   "id": "67ec1cdc",
   "metadata": {},
   "outputs": [
    {
     "data": {
      "text/html": [
       "<div><style>\n",
       ".dataframe > thead > tr > th,\n",
       ".dataframe > tbody > tr > td {\n",
       "  text-align: right;\n",
       "  white-space: pre-wrap;\n",
       "}\n",
       "</style>\n",
       "<small>shape: (22, 16)</small><table border=\"1\" class=\"dataframe\"><thead><tr><th>R</th><th>ACS</th><th>K</th><th>D</th><th>A</th><th>K-D</th><th>KAST</th><th>ADR</th><th>HS%</th><th>FK</th><th>FD</th><th>FK-FD</th><th>scores_team_1</th><th>scores_team_2</th><th>Team</th><th>Player-name</th></tr><tr><td>f64</td><td>f64</td><td>f64</td><td>f64</td><td>f64</td><td>f64</td><td>f64</td><td>f64</td><td>f64</td><td>f64</td><td>f64</td><td>f64</td><td>str</td><td>str</td><td>str</td><td>str</td></tr></thead><tbody><tr><td>1.06</td><td>222.0</td><td>33.0</td><td>28.0</td><td>7.0</td><td>5.0</td><td>0.74</td><td>159.0</td><td>0.23</td><td>3.0</td><td>2.0</td><td>1.0</td><td>&quot;0.0&quot;</td><td>&quot;2.0&quot;</td><td>&quot;FNC&quot;</td><td>&quot;Alfajer&quot;</td></tr><tr><td>1.0</td><td>211.0</td><td>29.0</td><td>29.0</td><td>6.0</td><td>0.0</td><td>0.56</td><td>142.0</td><td>0.15</td><td>14.0</td><td>10.0</td><td>4.0</td><td>&quot;11.0&quot;</td><td>&quot;13.0&quot;</td><td>&quot;FNC&quot;</td><td>&quot;Derke&quot;</td></tr><tr><td>0.99</td><td>171.0</td><td>29.0</td><td>28.0</td><td>10.0</td><td>1.0</td><td>0.74</td><td>117.0</td><td>0.2</td><td>0.0</td><td>2.0</td><td>-2.0</td><td>&quot;6.0&quot;</td><td>&quot;13.0&quot;</td><td>&quot;FNC&quot;</td><td>&quot;Leo&quot;</td></tr><tr><td>0.9</td><td>162.0</td><td>21.0</td><td>30.0</td><td>18.0</td><td>-9.0</td><td>0.58</td><td>104.0</td><td>0.16</td><td>4.0</td><td>5.0</td><td>-1.0</td><td>null</td><td>null</td><td>&quot;FNC&quot;</td><td>&quot;Boaster&quot;</td></tr><tr><td>0.67</td><td>141.0</td><td>19.0</td><td>34.0</td><td>19.0</td><td>-15.0</td><td>0.63</td><td>99.0</td><td>0.18</td><td>1.0</td><td>2.0</td><td>-1.0</td><td>null</td><td>null</td><td>&quot;FNC&quot;</td><td>&quot;Chronicle&quot;</td></tr><tr><td>1.33</td><td>234.0</td><td>38.0</td><td>25.0</td><td>9.0</td><td>13.0</td><td>0.79</td><td>147.0</td><td>0.27</td><td>6.0</td><td>2.0</td><td>4.0</td><td>null</td><td>null</td><td>&quot;LOUD&quot;</td><td>&quot;aspas&quot;</td></tr><tr><td>1.23</td><td>223.0</td><td>34.0</td><td>25.0</td><td>5.0</td><td>9.0</td><td>0.7</td><td>146.0</td><td>0.31</td><td>5.0</td><td>6.0</td><td>-1.0</td><td>null</td><td>null</td><td>&quot;LOUD&quot;</td><td>&quot;Less&quot;</td></tr><tr><td>1.17</td><td>220.0</td><td>35.0</td><td>25.0</td><td>13.0</td><td>10.0</td><td>0.79</td><td>140.0</td><td>0.26</td><td>5.0</td><td>1.0</td><td>4.0</td><td>null</td><td>null</td><td>&quot;LOUD&quot;</td><td>&quot;cauanzin&quot;</td></tr><tr><td>0.96</td><td>136.0</td><td>20.0</td><td>24.0</td><td>26.0</td><td>-4.0</td><td>0.74</td><td>94.0</td><td>0.31</td><td>2.0</td><td>5.0</td><td>-3.0</td><td>null</td><td>null</td><td>&quot;LOUD&quot;</td><td>&quot;tuyz&quot;</td></tr><tr><td>0.81</td><td>166.0</td><td>22.0</td><td>32.0</td><td>20.0</td><td>-10.0</td><td>0.65</td><td>110.0</td><td>0.14</td><td>3.0</td><td>8.0</td><td>-5.0</td><td>null</td><td>null</td><td>&quot;LOUD&quot;</td><td>&quot;saadhak&quot;</td></tr><tr><td>null</td><td>null</td><td>null</td><td>null</td><td>null</td><td>null</td><td>null</td><td>null</td><td>null</td><td>null</td><td>null</td><td>null</td><td>null</td><td>null</td><td>null</td><td>null</td></tr><tr><td>1.46</td><td>262.0</td><td>35.0</td><td>21.0</td><td>25.0</td><td>14.0</td><td>0.93</td><td>157.0</td><td>0.31</td><td>4.0</td><td>0.0</td><td>4.0</td><td>&quot;2.0&quot;</td><td>&quot;0.0&quot;</td><td>&quot;PRX&quot;</td><td>&quot;d4v41&quot;</td></tr><tr><td>1.31</td><td>260.0</td><td>39.0</td><td>22.0</td><td>5.0</td><td>17.0</td><td>0.73</td><td>165.0</td><td>0.3</td><td>10.0</td><td>6.0</td><td>4.0</td><td>&quot;13.0&quot;</td><td>&quot;10.0&quot;</td><td>&quot;PRX&quot;</td><td>&quot;something&quot;</td></tr><tr><td>1.27</td><td>268.0</td><td>36.0</td><td>28.0</td><td>13.0</td><td>8.0</td><td>0.83</td><td>177.0</td><td>0.27</td><td>3.0</td><td>1.0</td><td>2.0</td><td>&quot;13.0&quot;</td><td>&quot;4.0&quot;</td><td>&quot;PRX&quot;</td><td>&quot;f0rsakeN&quot;</td></tr><tr><td>0.93</td><td>186.0</td><td>30.0</td><td>27.0</td><td>7.0</td><td>3.0</td><td>0.65</td><td>119.0</td><td>0.21</td><td>5.0</td><td>9.0</td><td>-4.0</td><td>null</td><td>null</td><td>&quot;PRX&quot;</td><td>&quot;Jinggg&quot;</td></tr><tr><td>0.89</td><td>118.0</td><td>19.0</td><td>19.0</td><td>7.0</td><td>0.0</td><td>0.68</td><td>73.0</td><td>0.26</td><td>1.0</td><td>1.0</td><td>0.0</td><td>null</td><td>null</td><td>&quot;PRX&quot;</td><td>&quot;mindfreak&quot;</td></tr><tr><td>1.02</td><td>228.0</td><td>31.0</td><td>33.0</td><td>8.0</td><td>-2.0</td><td>0.7</td><td>171.0</td><td>0.31</td><td>3.0</td><td>3.0</td><td>0.0</td><td>null</td><td>null</td><td>&quot;FUT&quot;</td><td>&quot;MrFaliN&quot;</td></tr><tr><td>0.82</td><td>198.0</td><td>28.0</td><td>33.0</td><td>5.0</td><td>-5.0</td><td>0.65</td><td>127.0</td><td>0.23</td><td>7.0</td><td>6.0</td><td>1.0</td><td>null</td><td>null</td><td>&quot;FUT&quot;</td><td>&quot;qw1&quot;</td></tr><tr><td>0.81</td><td>181.0</td><td>21.0</td><td>31.0</td><td>14.0</td><td>-10.0</td><td>0.6</td><td>120.0</td><td>0.23</td><td>4.0</td><td>8.0</td><td>-4.0</td><td>null</td><td>null</td><td>&quot;FUT&quot;</td><td>&quot;AtaKaptan&quot;</td></tr><tr><td>0.74</td><td>135.0</td><td>18.0</td><td>30.0</td><td>6.0</td><td>-12.0</td><td>0.58</td><td>93.0</td><td>0.21</td><td>3.0</td><td>3.0</td><td>0.0</td><td>null</td><td>null</td><td>&quot;FUT&quot;</td><td>&quot;MOJJ&quot;</td></tr><tr><td>0.66</td><td>146.0</td><td>19.0</td><td>32.0</td><td>16.0</td><td>-13.0</td><td>0.73</td><td>115.0</td><td>0.27</td><td>0.0</td><td>3.0</td><td>-3.0</td><td>null</td><td>null</td><td>&quot;FUT&quot;</td><td>&quot;qRaxs&quot;</td></tr><tr><td>null</td><td>null</td><td>null</td><td>null</td><td>null</td><td>null</td><td>null</td><td>null</td><td>null</td><td>null</td><td>null</td><td>null</td><td>null</td><td>null</td><td>null</td><td>null</td></tr></tbody></table></div>"
      ],
      "text/plain": [
       "shape: (22, 16)\n",
       "┌──────┬───────┬──────┬──────┬───┬───────────────┬───────────────┬──────┬─────────────┐\n",
       "│ R    ┆ ACS   ┆ K    ┆ D    ┆ … ┆ scores_team_1 ┆ scores_team_2 ┆ Team ┆ Player-name │\n",
       "│ ---  ┆ ---   ┆ ---  ┆ ---  ┆   ┆ ---           ┆ ---           ┆ ---  ┆ ---         │\n",
       "│ f64  ┆ f64   ┆ f64  ┆ f64  ┆   ┆ str           ┆ str           ┆ str  ┆ str         │\n",
       "╞══════╪═══════╪══════╪══════╪═══╪═══════════════╪═══════════════╪══════╪═════════════╡\n",
       "│ 1.06 ┆ 222.0 ┆ 33.0 ┆ 28.0 ┆ … ┆ 0.0           ┆ 2.0           ┆ FNC  ┆ Alfajer     │\n",
       "│ 1.0  ┆ 211.0 ┆ 29.0 ┆ 29.0 ┆ … ┆ 11.0          ┆ 13.0          ┆ FNC  ┆ Derke       │\n",
       "│ 0.99 ┆ 171.0 ┆ 29.0 ┆ 28.0 ┆ … ┆ 6.0           ┆ 13.0          ┆ FNC  ┆ Leo         │\n",
       "│ 0.9  ┆ 162.0 ┆ 21.0 ┆ 30.0 ┆ … ┆ null          ┆ null          ┆ FNC  ┆ Boaster     │\n",
       "│ …    ┆ …     ┆ …    ┆ …    ┆ … ┆ …             ┆ …             ┆ …    ┆ …           │\n",
       "│ 0.81 ┆ 181.0 ┆ 21.0 ┆ 31.0 ┆ … ┆ null          ┆ null          ┆ FUT  ┆ AtaKaptan   │\n",
       "│ 0.74 ┆ 135.0 ┆ 18.0 ┆ 30.0 ┆ … ┆ null          ┆ null          ┆ FUT  ┆ MOJJ        │\n",
       "│ 0.66 ┆ 146.0 ┆ 19.0 ┆ 32.0 ┆ … ┆ null          ┆ null          ┆ FUT  ┆ qRaxs       │\n",
       "│ null ┆ null  ┆ null ┆ null ┆ … ┆ null          ┆ null          ┆ null ┆ null        │\n",
       "└──────┴───────┴──────┴──────┴───┴───────────────┴───────────────┴──────┴─────────────┘"
      ]
     },
     "execution_count": 3,
     "metadata": {},
     "output_type": "execute_result"
    }
   ],
   "source": [
    "(pl.read_csv('jogos_por_dia\\\\2023-08-16.csv', infer_schema_length=0).select(\n",
    "    #         ~cs.contains(('Map', '-t','-ct'))\n",
    "    ~cs.contains(('Map '))\n",
    ")\n",
    "    .drop(['', 'Unnamed: 1'])\n",
    "    .with_columns(pl.col('D').str.extract(r'(\\d+)', 0))\n",
    "    .with_columns(pl.col(['R', 'ACS', 'K', 'A', 'ADR', 'FK', 'FD', 'HS%', 'KAST', '+/–', '+/–.1']).str.split('  ').list.first())\n",
    "    .with_columns(pl.col('HS%', 'KAST').str.strip_chars('%'))\n",
    "    .with_columns(pl.col(['R', 'ACS', 'D', 'K', 'A', 'ADR', 'FK', 'FD', 'HS%', 'KAST', '+/–', '+/–.1']).cast(pl.Float64))\n",
    "    .with_columns(pl.col('HS%', 'KAST')/100)\n",
    "    .with_columns(pl.col('Unnamed: 0').str.split(' ').alias('fields'))\n",
    "    .with_columns(pl.col('fields').list.reverse())\n",
    "    .with_columns(pl.col('fields').list.first().alias('Team'))\n",
    "    .with_columns(pl.col('fields').list.slice(1).list.join(' ').alias('Player-name'))\n",
    "    .drop(['fields', 'Unnamed: 0'])\n",
    "    .rename({'+/–': 'K-D', '+/–.1': 'FK-FD'})\n",
    ")"
   ]
  }
 ],
 "metadata": {
  "kernelspec": {
   "display_name": "Python 3 (ipykernel)",
   "language": "python",
   "name": "python3"
  },
  "language_info": {
   "codemirror_mode": {
    "name": "ipython",
    "version": 3
   },
   "file_extension": ".py",
   "mimetype": "text/x-python",
   "name": "python",
   "nbconvert_exporter": "python",
   "pygments_lexer": "ipython3",
   "version": "3.9.18"
  }
 },
 "nbformat": 4,
 "nbformat_minor": 5
}
