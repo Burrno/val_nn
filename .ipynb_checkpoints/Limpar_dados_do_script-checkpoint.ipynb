{
 "cells": [
  {
   "cell_type": "code",
   "execution_count": 4,
   "id": "2a5b8220-6aac-47ed-8e2b-3872cc74d8d5",
   "metadata": {},
   "outputs": [
    {
     "name": "stdout",
     "output_type": "stream",
     "text": [
      "Collecting jupyterlab_miami_nights\n",
      "  Obtaining dependency information for jupyterlab_miami_nights from https://files.pythonhosted.org/packages/7d/69/5cbc99990eaf20450b228049ab6b45874d97c10b63bd7d932faa6fff41c9/jupyterlab_miami_nights-0.4.1-py3-none-any.whl.metadata\n",
      "  Downloading jupyterlab_miami_nights-0.4.1-py3-none-any.whl.metadata (8.7 kB)\n",
      "Requirement already satisfied: jupyterlab<5,>=4 in c:\\users\\bruno\\anaconda3\\lib\\site-packages (from jupyterlab_miami_nights) (4.0.7)\n",
      "Requirement already satisfied: async-lru>=1.0.0 in c:\\users\\bruno\\anaconda3\\lib\\site-packages (from jupyterlab<5,>=4->jupyterlab_miami_nights) (2.0.4)\n",
      "Requirement already satisfied: importlib-metadata>=4.8.3 in c:\\users\\bruno\\anaconda3\\lib\\site-packages (from jupyterlab<5,>=4->jupyterlab_miami_nights) (6.0.0)\n",
      "Requirement already satisfied: ipykernel in c:\\users\\bruno\\anaconda3\\lib\\site-packages (from jupyterlab<5,>=4->jupyterlab_miami_nights) (6.25.0)\n",
      "Requirement already satisfied: jinja2>=3.0.3 in c:\\users\\bruno\\anaconda3\\lib\\site-packages (from jupyterlab<5,>=4->jupyterlab_miami_nights) (3.1.2)\n",
      "Requirement already satisfied: jupyter-core in c:\\users\\bruno\\anaconda3\\lib\\site-packages (from jupyterlab<5,>=4->jupyterlab_miami_nights) (5.3.0)\n",
      "Requirement already satisfied: jupyter-lsp>=2.0.0 in c:\\users\\bruno\\anaconda3\\lib\\site-packages (from jupyterlab<5,>=4->jupyterlab_miami_nights) (2.2.0)\n",
      "Requirement already satisfied: jupyter-server<3,>=2.4.0 in c:\\users\\bruno\\appdata\\roaming\\python\\python39\\site-packages (from jupyterlab<5,>=4->jupyterlab_miami_nights) (2.8.0)\n",
      "Requirement already satisfied: jupyterlab-server<3,>=2.19.0 in c:\\users\\bruno\\anaconda3\\lib\\site-packages (from jupyterlab<5,>=4->jupyterlab_miami_nights) (2.25.0)\n",
      "Requirement already satisfied: notebook-shim>=0.2 in c:\\users\\bruno\\anaconda3\\lib\\site-packages (from jupyterlab<5,>=4->jupyterlab_miami_nights) (0.2.2)\n",
      "Requirement already satisfied: packaging in c:\\users\\bruno\\anaconda3\\lib\\site-packages (from jupyterlab<5,>=4->jupyterlab_miami_nights) (23.1)\n",
      "Requirement already satisfied: tomli in c:\\users\\bruno\\anaconda3\\lib\\site-packages (from jupyterlab<5,>=4->jupyterlab_miami_nights) (2.0.1)\n",
      "Requirement already satisfied: tornado>=6.2.0 in c:\\users\\bruno\\anaconda3\\lib\\site-packages (from jupyterlab<5,>=4->jupyterlab_miami_nights) (6.3.3)\n",
      "Requirement already satisfied: traitlets in c:\\users\\bruno\\anaconda3\\lib\\site-packages (from jupyterlab<5,>=4->jupyterlab_miami_nights) (5.7.1)\n",
      "Requirement already satisfied: typing-extensions>=4.0.0 in c:\\users\\bruno\\anaconda3\\lib\\site-packages (from async-lru>=1.0.0->jupyterlab<5,>=4->jupyterlab_miami_nights) (4.7.1)\n",
      "Requirement already satisfied: zipp>=0.5 in c:\\users\\bruno\\anaconda3\\lib\\site-packages (from importlib-metadata>=4.8.3->jupyterlab<5,>=4->jupyterlab_miami_nights) (3.11.0)\n",
      "Requirement already satisfied: MarkupSafe>=2.0 in c:\\users\\bruno\\anaconda3\\lib\\site-packages (from jinja2>=3.0.3->jupyterlab<5,>=4->jupyterlab_miami_nights) (2.1.1)\n",
      "Requirement already satisfied: anyio>=3.1.0 in c:\\users\\bruno\\anaconda3\\lib\\site-packages (from jupyter-server<3,>=2.4.0->jupyterlab<5,>=4->jupyterlab_miami_nights) (3.5.0)\n",
      "Requirement already satisfied: argon2-cffi in c:\\users\\bruno\\anaconda3\\lib\\site-packages (from jupyter-server<3,>=2.4.0->jupyterlab<5,>=4->jupyterlab_miami_nights) (21.3.0)\n",
      "Requirement already satisfied: jupyter-client>=7.4.4 in c:\\users\\bruno\\anaconda3\\lib\\site-packages (from jupyter-server<3,>=2.4.0->jupyterlab<5,>=4->jupyterlab_miami_nights) (7.4.9)\n",
      "Requirement already satisfied: jupyter-events>=0.6.0 in c:\\users\\bruno\\anaconda3\\lib\\site-packages (from jupyter-server<3,>=2.4.0->jupyterlab<5,>=4->jupyterlab_miami_nights) (0.6.3)\n",
      "Requirement already satisfied: jupyter-server-terminals in c:\\users\\bruno\\appdata\\roaming\\python\\python39\\site-packages (from jupyter-server<3,>=2.4.0->jupyterlab<5,>=4->jupyterlab_miami_nights) (0.4.4)\n",
      "Requirement already satisfied: nbconvert>=6.4.4 in c:\\users\\bruno\\anaconda3\\lib\\site-packages (from jupyter-server<3,>=2.4.0->jupyterlab<5,>=4->jupyterlab_miami_nights) (6.5.4)\n",
      "Requirement already satisfied: nbformat>=5.3.0 in c:\\users\\bruno\\anaconda3\\lib\\site-packages (from jupyter-server<3,>=2.4.0->jupyterlab<5,>=4->jupyterlab_miami_nights) (5.9.2)\n",
      "Requirement already satisfied: overrides in c:\\users\\bruno\\appdata\\roaming\\python\\python39\\site-packages (from jupyter-server<3,>=2.4.0->jupyterlab<5,>=4->jupyterlab_miami_nights) (7.4.0)\n",
      "Requirement already satisfied: prometheus-client in c:\\users\\bruno\\anaconda3\\lib\\site-packages (from jupyter-server<3,>=2.4.0->jupyterlab<5,>=4->jupyterlab_miami_nights) (0.14.1)\n",
      "Requirement already satisfied: pywinpty in c:\\users\\bruno\\anaconda3\\lib\\site-packages (from jupyter-server<3,>=2.4.0->jupyterlab<5,>=4->jupyterlab_miami_nights) (2.0.10)\n",
      "Requirement already satisfied: pyzmq>=24 in c:\\users\\bruno\\anaconda3\\lib\\site-packages (from jupyter-server<3,>=2.4.0->jupyterlab<5,>=4->jupyterlab_miami_nights) (25.1.1)\n",
      "Requirement already satisfied: send2trash>=1.8.2 in c:\\users\\bruno\\anaconda3\\lib\\site-packages (from jupyter-server<3,>=2.4.0->jupyterlab<5,>=4->jupyterlab_miami_nights) (1.8.2)\n",
      "Requirement already satisfied: terminado>=0.8.3 in c:\\users\\bruno\\anaconda3\\lib\\site-packages (from jupyter-server<3,>=2.4.0->jupyterlab<5,>=4->jupyterlab_miami_nights) (0.17.1)\n",
      "Requirement already satisfied: websocket-client in c:\\users\\bruno\\anaconda3\\lib\\site-packages (from jupyter-server<3,>=2.4.0->jupyterlab<5,>=4->jupyterlab_miami_nights) (0.58.0)\n",
      "Requirement already satisfied: platformdirs>=2.5 in c:\\users\\bruno\\anaconda3\\lib\\site-packages (from jupyter-core->jupyterlab<5,>=4->jupyterlab_miami_nights) (3.10.0)\n",
      "Requirement already satisfied: pywin32>=300 in c:\\users\\bruno\\anaconda3\\lib\\site-packages (from jupyter-core->jupyterlab<5,>=4->jupyterlab_miami_nights) (305.1)\n",
      "Requirement already satisfied: babel>=2.10 in c:\\users\\bruno\\anaconda3\\lib\\site-packages (from jupyterlab-server<3,>=2.19.0->jupyterlab<5,>=4->jupyterlab_miami_nights) (2.11.0)\n",
      "Requirement already satisfied: json5>=0.9.0 in c:\\users\\bruno\\anaconda3\\lib\\site-packages (from jupyterlab-server<3,>=2.19.0->jupyterlab<5,>=4->jupyterlab_miami_nights) (0.9.6)\n",
      "Requirement already satisfied: jsonschema>=4.18.0 in c:\\users\\bruno\\anaconda3\\lib\\site-packages (from jupyterlab-server<3,>=2.19.0->jupyterlab<5,>=4->jupyterlab_miami_nights) (4.19.1)\n",
      "Requirement already satisfied: requests>=2.31 in c:\\users\\bruno\\anaconda3\\lib\\site-packages (from jupyterlab-server<3,>=2.19.0->jupyterlab<5,>=4->jupyterlab_miami_nights) (2.31.0)\n",
      "Requirement already satisfied: comm>=0.1.1 in c:\\users\\bruno\\anaconda3\\lib\\site-packages (from ipykernel->jupyterlab<5,>=4->jupyterlab_miami_nights) (0.1.2)\n",
      "Requirement already satisfied: debugpy>=1.6.5 in c:\\users\\bruno\\anaconda3\\lib\\site-packages (from ipykernel->jupyterlab<5,>=4->jupyterlab_miami_nights) (1.6.7)\n",
      "Requirement already satisfied: ipython>=7.23.1 in c:\\users\\bruno\\anaconda3\\lib\\site-packages (from ipykernel->jupyterlab<5,>=4->jupyterlab_miami_nights) (8.15.0)\n",
      "Requirement already satisfied: matplotlib-inline>=0.1 in c:\\users\\bruno\\anaconda3\\lib\\site-packages (from ipykernel->jupyterlab<5,>=4->jupyterlab_miami_nights) (0.1.6)\n",
      "Requirement already satisfied: nest-asyncio in c:\\users\\bruno\\anaconda3\\lib\\site-packages (from ipykernel->jupyterlab<5,>=4->jupyterlab_miami_nights) (1.5.6)\n",
      "Requirement already satisfied: psutil in c:\\users\\bruno\\anaconda3\\lib\\site-packages (from ipykernel->jupyterlab<5,>=4->jupyterlab_miami_nights) (5.9.0)\n",
      "Requirement already satisfied: idna>=2.8 in c:\\users\\bruno\\anaconda3\\lib\\site-packages (from anyio>=3.1.0->jupyter-server<3,>=2.4.0->jupyterlab<5,>=4->jupyterlab_miami_nights) (3.4)\n",
      "Requirement already satisfied: sniffio>=1.1 in c:\\users\\bruno\\anaconda3\\lib\\site-packages (from anyio>=3.1.0->jupyter-server<3,>=2.4.0->jupyterlab<5,>=4->jupyterlab_miami_nights) (1.2.0)\n",
      "Requirement already satisfied: pytz>=2015.7 in c:\\users\\bruno\\anaconda3\\lib\\site-packages (from babel>=2.10->jupyterlab-server<3,>=2.19.0->jupyterlab<5,>=4->jupyterlab_miami_nights) (2023.3.post1)\n",
      "Requirement already satisfied: backcall in c:\\users\\bruno\\anaconda3\\lib\\site-packages (from ipython>=7.23.1->ipykernel->jupyterlab<5,>=4->jupyterlab_miami_nights) (0.2.0)\n",
      "Requirement already satisfied: decorator in c:\\users\\bruno\\anaconda3\\lib\\site-packages (from ipython>=7.23.1->ipykernel->jupyterlab<5,>=4->jupyterlab_miami_nights) (5.1.1)\n",
      "Requirement already satisfied: jedi>=0.16 in c:\\users\\bruno\\anaconda3\\lib\\site-packages (from ipython>=7.23.1->ipykernel->jupyterlab<5,>=4->jupyterlab_miami_nights) (0.18.1)\n",
      "Requirement already satisfied: pickleshare in c:\\users\\bruno\\anaconda3\\lib\\site-packages (from ipython>=7.23.1->ipykernel->jupyterlab<5,>=4->jupyterlab_miami_nights) (0.7.5)\n",
      "Requirement already satisfied: prompt-toolkit!=3.0.37,<3.1.0,>=3.0.30 in c:\\users\\bruno\\anaconda3\\lib\\site-packages (from ipython>=7.23.1->ipykernel->jupyterlab<5,>=4->jupyterlab_miami_nights) (3.0.36)\n",
      "Requirement already satisfied: pygments>=2.4.0 in c:\\users\\bruno\\anaconda3\\lib\\site-packages (from ipython>=7.23.1->ipykernel->jupyterlab<5,>=4->jupyterlab_miami_nights) (2.15.1)\n",
      "Requirement already satisfied: stack-data in c:\\users\\bruno\\anaconda3\\lib\\site-packages (from ipython>=7.23.1->ipykernel->jupyterlab<5,>=4->jupyterlab_miami_nights) (0.2.0)\n",
      "Requirement already satisfied: exceptiongroup in c:\\users\\bruno\\anaconda3\\lib\\site-packages (from ipython>=7.23.1->ipykernel->jupyterlab<5,>=4->jupyterlab_miami_nights) (1.0.4)\n",
      "Requirement already satisfied: colorama in c:\\users\\bruno\\anaconda3\\lib\\site-packages (from ipython>=7.23.1->ipykernel->jupyterlab<5,>=4->jupyterlab_miami_nights) (0.4.6)\n",
      "Requirement already satisfied: attrs>=22.2.0 in c:\\users\\bruno\\anaconda3\\lib\\site-packages (from jsonschema>=4.18.0->jupyterlab-server<3,>=2.19.0->jupyterlab<5,>=4->jupyterlab_miami_nights) (23.1.0)\n",
      "Requirement already satisfied: jsonschema-specifications>=2023.03.6 in c:\\users\\bruno\\anaconda3\\lib\\site-packages (from jsonschema>=4.18.0->jupyterlab-server<3,>=2.19.0->jupyterlab<5,>=4->jupyterlab_miami_nights) (2023.7.1)\n",
      "Requirement already satisfied: referencing>=0.28.4 in c:\\users\\bruno\\anaconda3\\lib\\site-packages (from jsonschema>=4.18.0->jupyterlab-server<3,>=2.19.0->jupyterlab<5,>=4->jupyterlab_miami_nights) (0.30.2)\n",
      "Requirement already satisfied: rpds-py>=0.7.1 in c:\\users\\bruno\\anaconda3\\lib\\site-packages (from jsonschema>=4.18.0->jupyterlab-server<3,>=2.19.0->jupyterlab<5,>=4->jupyterlab_miami_nights) (0.10.6)\n",
      "Requirement already satisfied: entrypoints in c:\\users\\bruno\\anaconda3\\lib\\site-packages (from jupyter-client>=7.4.4->jupyter-server<3,>=2.4.0->jupyterlab<5,>=4->jupyterlab_miami_nights) (0.4)\n",
      "Requirement already satisfied: python-dateutil>=2.8.2 in c:\\users\\bruno\\anaconda3\\lib\\site-packages (from jupyter-client>=7.4.4->jupyter-server<3,>=2.4.0->jupyterlab<5,>=4->jupyterlab_miami_nights) (2.8.2)\n",
      "Requirement already satisfied: python-json-logger>=2.0.4 in c:\\users\\bruno\\anaconda3\\lib\\site-packages (from jupyter-events>=0.6.0->jupyter-server<3,>=2.4.0->jupyterlab<5,>=4->jupyterlab_miami_nights) (2.0.7)\n",
      "Requirement already satisfied: pyyaml>=5.3 in c:\\users\\bruno\\anaconda3\\lib\\site-packages (from jupyter-events>=0.6.0->jupyter-server<3,>=2.4.0->jupyterlab<5,>=4->jupyterlab_miami_nights) (6.0)\n",
      "Requirement already satisfied: rfc3339-validator in c:\\users\\bruno\\anaconda3\\lib\\site-packages (from jupyter-events>=0.6.0->jupyter-server<3,>=2.4.0->jupyterlab<5,>=4->jupyterlab_miami_nights) (0.1.4)\n",
      "Requirement already satisfied: rfc3986-validator>=0.1.1 in c:\\users\\bruno\\anaconda3\\lib\\site-packages (from jupyter-events>=0.6.0->jupyter-server<3,>=2.4.0->jupyterlab<5,>=4->jupyterlab_miami_nights) (0.1.1)\n",
      "Requirement already satisfied: lxml in c:\\users\\bruno\\anaconda3\\lib\\site-packages (from nbconvert>=6.4.4->jupyter-server<3,>=2.4.0->jupyterlab<5,>=4->jupyterlab_miami_nights) (4.9.3)\n",
      "Requirement already satisfied: beautifulsoup4 in c:\\users\\bruno\\anaconda3\\lib\\site-packages (from nbconvert>=6.4.4->jupyter-server<3,>=2.4.0->jupyterlab<5,>=4->jupyterlab_miami_nights) (4.12.2)\n",
      "Requirement already satisfied: bleach in c:\\users\\bruno\\anaconda3\\lib\\site-packages (from nbconvert>=6.4.4->jupyter-server<3,>=2.4.0->jupyterlab<5,>=4->jupyterlab_miami_nights) (4.1.0)\n",
      "Requirement already satisfied: defusedxml in c:\\users\\bruno\\anaconda3\\lib\\site-packages (from nbconvert>=6.4.4->jupyter-server<3,>=2.4.0->jupyterlab<5,>=4->jupyterlab_miami_nights) (0.7.1)\n",
      "Requirement already satisfied: jupyterlab-pygments in c:\\users\\bruno\\anaconda3\\lib\\site-packages (from nbconvert>=6.4.4->jupyter-server<3,>=2.4.0->jupyterlab<5,>=4->jupyterlab_miami_nights) (0.1.2)\n",
      "Requirement already satisfied: mistune<2,>=0.8.1 in c:\\users\\bruno\\anaconda3\\lib\\site-packages (from nbconvert>=6.4.4->jupyter-server<3,>=2.4.0->jupyterlab<5,>=4->jupyterlab_miami_nights) (0.8.4)\n",
      "Requirement already satisfied: nbclient>=0.5.0 in c:\\users\\bruno\\anaconda3\\lib\\site-packages (from nbconvert>=6.4.4->jupyter-server<3,>=2.4.0->jupyterlab<5,>=4->jupyterlab_miami_nights) (0.5.13)\n",
      "Requirement already satisfied: pandocfilters>=1.4.1 in c:\\users\\bruno\\anaconda3\\lib\\site-packages (from nbconvert>=6.4.4->jupyter-server<3,>=2.4.0->jupyterlab<5,>=4->jupyterlab_miami_nights) (1.5.0)\n",
      "Requirement already satisfied: tinycss2 in c:\\users\\bruno\\anaconda3\\lib\\site-packages (from nbconvert>=6.4.4->jupyter-server<3,>=2.4.0->jupyterlab<5,>=4->jupyterlab_miami_nights) (1.2.1)\n",
      "Requirement already satisfied: fastjsonschema in c:\\users\\bruno\\anaconda3\\lib\\site-packages (from nbformat>=5.3.0->jupyter-server<3,>=2.4.0->jupyterlab<5,>=4->jupyterlab_miami_nights) (2.16.2)\n",
      "Requirement already satisfied: charset-normalizer<4,>=2 in c:\\users\\bruno\\anaconda3\\lib\\site-packages (from requests>=2.31->jupyterlab-server<3,>=2.19.0->jupyterlab<5,>=4->jupyterlab_miami_nights) (2.0.4)\n",
      "Requirement already satisfied: urllib3<3,>=1.21.1 in c:\\users\\bruno\\anaconda3\\lib\\site-packages (from requests>=2.31->jupyterlab-server<3,>=2.19.0->jupyterlab<5,>=4->jupyterlab_miami_nights) (1.26.16)\n",
      "Requirement already satisfied: certifi>=2017.4.17 in c:\\users\\bruno\\anaconda3\\lib\\site-packages (from requests>=2.31->jupyterlab-server<3,>=2.19.0->jupyterlab<5,>=4->jupyterlab_miami_nights) (2023.7.22)\n",
      "Requirement already satisfied: argon2-cffi-bindings in c:\\users\\bruno\\anaconda3\\lib\\site-packages (from argon2-cffi->jupyter-server<3,>=2.4.0->jupyterlab<5,>=4->jupyterlab_miami_nights) (21.2.0)\n",
      "Requirement already satisfied: six in c:\\users\\bruno\\anaconda3\\lib\\site-packages (from websocket-client->jupyter-server<3,>=2.4.0->jupyterlab<5,>=4->jupyterlab_miami_nights) (1.16.0)\n",
      "Requirement already satisfied: parso<0.9.0,>=0.8.0 in c:\\users\\bruno\\anaconda3\\lib\\site-packages (from jedi>=0.16->ipython>=7.23.1->ipykernel->jupyterlab<5,>=4->jupyterlab_miami_nights) (0.8.3)\n",
      "Requirement already satisfied: fqdn in c:\\users\\bruno\\anaconda3\\lib\\site-packages (from jsonschema>=4.18.0->jupyterlab-server<3,>=2.19.0->jupyterlab<5,>=4->jupyterlab_miami_nights) (1.5.1)\n",
      "Requirement already satisfied: isoduration in c:\\users\\bruno\\anaconda3\\lib\\site-packages (from jsonschema>=4.18.0->jupyterlab-server<3,>=2.19.0->jupyterlab<5,>=4->jupyterlab_miami_nights) (20.11.0)\n",
      "Requirement already satisfied: jsonpointer>1.13 in c:\\users\\bruno\\anaconda3\\lib\\site-packages (from jsonschema>=4.18.0->jupyterlab-server<3,>=2.19.0->jupyterlab<5,>=4->jupyterlab_miami_nights) (2.1)\n",
      "Requirement already satisfied: uri-template in c:\\users\\bruno\\anaconda3\\lib\\site-packages (from jsonschema>=4.18.0->jupyterlab-server<3,>=2.19.0->jupyterlab<5,>=4->jupyterlab_miami_nights) (1.3.0)\n",
      "Requirement already satisfied: webcolors>=1.11 in c:\\users\\bruno\\anaconda3\\lib\\site-packages (from jsonschema>=4.18.0->jupyterlab-server<3,>=2.19.0->jupyterlab<5,>=4->jupyterlab_miami_nights) (1.13)\n",
      "Requirement already satisfied: wcwidth in c:\\users\\bruno\\anaconda3\\lib\\site-packages (from prompt-toolkit!=3.0.37,<3.1.0,>=3.0.30->ipython>=7.23.1->ipykernel->jupyterlab<5,>=4->jupyterlab_miami_nights) (0.2.5)\n",
      "Requirement already satisfied: cffi>=1.0.1 in c:\\users\\bruno\\anaconda3\\lib\\site-packages (from argon2-cffi-bindings->argon2-cffi->jupyter-server<3,>=2.4.0->jupyterlab<5,>=4->jupyterlab_miami_nights) (1.15.1)\n",
      "Requirement already satisfied: soupsieve>1.2 in c:\\users\\bruno\\anaconda3\\lib\\site-packages (from beautifulsoup4->nbconvert>=6.4.4->jupyter-server<3,>=2.4.0->jupyterlab<5,>=4->jupyterlab_miami_nights) (2.5)\n",
      "Requirement already satisfied: webencodings in c:\\users\\bruno\\anaconda3\\lib\\site-packages (from bleach->nbconvert>=6.4.4->jupyter-server<3,>=2.4.0->jupyterlab<5,>=4->jupyterlab_miami_nights) (0.5.1)\n",
      "Requirement already satisfied: executing in c:\\users\\bruno\\anaconda3\\lib\\site-packages (from stack-data->ipython>=7.23.1->ipykernel->jupyterlab<5,>=4->jupyterlab_miami_nights) (0.8.3)\n",
      "Requirement already satisfied: asttokens in c:\\users\\bruno\\anaconda3\\lib\\site-packages (from stack-data->ipython>=7.23.1->ipykernel->jupyterlab<5,>=4->jupyterlab_miami_nights) (2.0.5)\n",
      "Requirement already satisfied: pure-eval in c:\\users\\bruno\\anaconda3\\lib\\site-packages (from stack-data->ipython>=7.23.1->ipykernel->jupyterlab<5,>=4->jupyterlab_miami_nights) (0.2.2)\n",
      "Requirement already satisfied: pycparser in c:\\users\\bruno\\anaconda3\\lib\\site-packages (from cffi>=1.0.1->argon2-cffi-bindings->argon2-cffi->jupyter-server<3,>=2.4.0->jupyterlab<5,>=4->jupyterlab_miami_nights) (2.21)\n",
      "Requirement already satisfied: arrow>=0.15.0 in c:\\users\\bruno\\anaconda3\\lib\\site-packages (from isoduration->jsonschema>=4.18.0->jupyterlab-server<3,>=2.19.0->jupyterlab<5,>=4->jupyterlab_miami_nights) (1.2.3)\n",
      "Downloading jupyterlab_miami_nights-0.4.1-py3-none-any.whl (347 kB)\n",
      "   ---------------------------------------- 0.0/347.0 kB ? eta -:--:--\n",
      "   - -------------------------------------- 10.2/347.0 kB ? eta -:--:--\n",
      "   --- ----------------------------------- 30.7/347.0 kB 435.7 kB/s eta 0:00:01\n",
      "   ---------------- ----------------------- 143.4/347.0 kB 1.4 MB/s eta 0:00:01\n",
      "   ---------------------------------------- 347.0/347.0 kB 2.7 MB/s eta 0:00:00\n",
      "Installing collected packages: jupyterlab_miami_nights\n",
      "Successfully installed jupyterlab_miami_nights-0.4.1\n"
     ]
    }
   ],
   "source": [
    "!pip install jupyterlab_miami_nights"
   ]
  },
  {
   "cell_type": "code",
   "execution_count": 14,
   "id": "b835959a-d9a5-47ff-97bc-3211e09e7642",
   "metadata": {},
   "outputs": [
    {
     "name": "stdout",
     "output_type": "stream",
     "text": [
      "Collecting catppuccin-jupyterlab\n",
      "  Obtaining dependency information for catppuccin-jupyterlab from https://files.pythonhosted.org/packages/a5/00/090fa6be87d7caacc1011e514c38389ef146adf76b7b39556f069c028cd9/catppuccin_jupyterlab-0.2.0-py3-none-any.whl.metadata\n",
      "  Downloading catppuccin_jupyterlab-0.2.0-py3-none-any.whl.metadata (6.0 kB)\n",
      "Downloading catppuccin_jupyterlab-0.2.0-py3-none-any.whl (21 kB)\n",
      "Installing collected packages: catppuccin-jupyterlab\n",
      "Successfully installed catppuccin-jupyterlab-0.2.0\n"
     ]
    }
   ],
   "source": [
    "!pip install catppuccin-jupyterlab"
   ]
  },
  {
   "cell_type": "code",
   "execution_count": 1,
   "id": "10f2bc77",
   "metadata": {},
   "outputs": [],
   "source": [
    "import polars as pl, polars.selectors as cs, numpy as np, seaborn as sns\n",
    "import matplotlib.pyplot as plt, matplotlib.colors as clr\n",
    "from tqdm import tqdm\n",
    "import Valorant.functions as val"
   ]
  },
  {
   "cell_type": "code",
   "execution_count": 2,
   "id": "20e97b19",
   "metadata": {},
   "outputs": [
    {
     "name": "stderr",
     "output_type": "stream",
     "text": [
      "100%|███████████████████████████████████████████████████████████████████████████| 20600/20600 [00:50<00:00, 404.25it/s]\n"
     ]
    }
   ],
   "source": [
    "df = pl.read_csv('brutos\\\\todos_os_dados_final.csv', infer_schema_length=0)\n",
    "df = df.select(\n",
    "    ~cs.contains(('Map '))).drop(\n",
    "        ['', 'Unnamed: 0.2', 'Unnamed: 0.1', 'Unnamed: 1'])\n",
    "df = val.processador(df)"
   ]
  },
  {
   "cell_type": "code",
   "execution_count": 3,
   "id": "99d9cf21",
   "metadata": {
    "cell_style": "center"
   },
   "outputs": [],
   "source": [
    "media_jogadores = False\n",
    "\n",
    "part_consid = 10\n",
    "n = part_consid*5\n",
    "\n",
    "Teams = df.select('Team', 'Player-name')\n",
    "Teams = Teams.groupby('Team').count().filter(\n",
    "    pl.col('count') >= n).get_column('Team').to_list()\n",
    "Teams.remove(None)\n",
    "Teams.remove('VKS')"
   ]
  },
  {
   "cell_type": "code",
   "execution_count": 4,
   "id": "70e4a6bc",
   "metadata": {
    "cell_style": "center"
   },
   "outputs": [
    {
     "name": "stderr",
     "output_type": "stream",
     "text": [
      "100%|███████████████████████████████████████████████████████████████████████████| 15068/15068 [01:17<00:00, 194.37it/s]\n"
     ]
    }
   ],
   "source": [
    "jogos_por_time, df_por_time =  val.indices_df(df, Teams, part_consid, media_jogadores, primeiro=True)\n",
    "\n",
    "treino, objetivo = val.gerar_treino(df, Teams, jogos_por_time, df_por_time, media_jogadores)\n",
    "\n",
    "treino_media = val.media_jogadores_final(treino)"
   ]
  },
  {
   "cell_type": "code",
   "execution_count": 5,
   "id": "c2368cf1",
   "metadata": {
    "cell_style": "split"
   },
   "outputs": [
    {
     "name": "stderr",
     "output_type": "stream",
     "text": [
      "100%|██████████████████████████████████████████████████████████████████████████████| 252/252 [00:00<00:00, 1076.84it/s]\n",
      "100%|███████████████████████████████████████████████████████████████████████████████| 250/250 [00:02<00:00, 115.45it/s]\n"
     ]
    }
   ],
   "source": [
    "df2 = pl.read_csv('brutos/segunda_leva.csv', infer_schema_length=0)\n",
    "df2 = df2.select(\n",
    "    ~cs.contains(('Map '))).drop(['', 'Unnamed: 1'])\n",
    "\n",
    "df2 = val.processador(df2)\n",
    "\n",
    "jogos_por_time2 = val.indices_df(df2, Teams, part_consid, media_jogadores, primeiro=False)\n",
    "\n",
    "valid1, objetivo_valid1 = val.gerar_treino(df2, Teams, jogos_por_time2, df_por_time, media_jogadores)\n",
    "\n",
    "valid1 = val.media_jogadores_final(valid1)"
   ]
  },
  {
   "cell_type": "code",
   "execution_count": 6,
   "id": "a87d53ed",
   "metadata": {
    "cell_style": "split"
   },
   "outputs": [
    {
     "name": "stderr",
     "output_type": "stream",
     "text": [
      "100%|██████████████████████████████████████████████████████████████████████████████| 293/293 [00:00<00:00, 1282.89it/s]\n",
      "100%|███████████████████████████████████████████████████████████████████████████████| 275/275 [00:01<00:00, 163.79it/s]\n"
     ]
    }
   ],
   "source": [
    "df3 = pl.read_csv('brutos/terceira_leva.csv', infer_schema_length=0)\n",
    "df3 = df3.select(\n",
    "    ~cs.contains(('Map '))).drop(['', 'Unnamed: 1'])\n",
    "\n",
    "df3 = val.processador(df3)\n",
    "\n",
    "jogos_por_time3 = val.indices_df(df3, Teams, part_consid, media_jogadores, primeiro=False)\n",
    "\n",
    "valid2, objetivo_valid2 = val.gerar_treino(df3, Teams, jogos_por_time3, df_por_time, media_jogadores)\n",
    "\n",
    "valid2 = val.media_jogadores_final(valid2)"
   ]
  },
  {
   "cell_type": "code",
   "execution_count": 7,
   "id": "6793c1a1",
   "metadata": {},
   "outputs": [],
   "source": [
    "validacao = pl.concat([valid1, valid2])\n",
    "objetivo_validacao = pl.concat([objetivo_valid1, objetivo_valid2])"
   ]
  },
  {
   "cell_type": "code",
   "execution_count": null,
   "id": "8cfea976",
   "metadata": {},
   "outputs": [],
   "source": [
    "# pl.concat([treino_media, objetivo], how='horizontal').write_csv('processados/treino-teste.csv')\n",
    "# pl.concat([validacao, objetivo_validacao], how='horizontal').write_csv('processados/valida.csv')"
   ]
  },
  {
   "cell_type": "code",
   "execution_count": null,
   "id": "957a8b98",
   "metadata": {},
   "outputs": [],
   "source": []
  },
  {
   "cell_type": "code",
   "execution_count": null,
   "id": "184b31eb",
   "metadata": {},
   "outputs": [],
   "source": []
  },
  {
   "cell_type": "code",
   "execution_count": null,
   "id": "cf641d09",
   "metadata": {},
   "outputs": [],
   "source": []
  },
  {
   "cell_type": "code",
   "execution_count": null,
   "id": "19cea679",
   "metadata": {},
   "outputs": [],
   "source": [
    "# plt.figure(figsize=(15,15)) \n",
    "# sns.heatmap(pl.concat([treino_media, objetivo], how='horizontal').corr(), cmap='cividis', xticklabels=treino_media.columns+['resultado'], yticklabels=treino_media.columns+['resultado'])"
   ]
  },
  {
   "cell_type": "code",
   "execution_count": null,
   "id": "497cbcd2",
   "metadata": {},
   "outputs": [],
   "source": [
    "from numba import jit\n",
    "\n",
    "\n",
    "@jit(nopython=True)\n",
    "def correlation_ratio(categories, values):\n",
    "    ssw = 0\n",
    "    ssb = 0\n",
    "    for category in set(categories):\n",
    "        subgroup = values[np.where(categories == category)[0]]\n",
    "        ssw += sum((subgroup-np.mean(subgroup))**2)\n",
    "        ssb += len(subgroup)*(np.mean(subgroup)-np.mean(values))**2\n",
    "\n",
    "    return (ssb / (ssb + ssw))**.5"
   ]
  },
  {
   "cell_type": "code",
   "execution_count": null,
   "id": "6706207d",
   "metadata": {
    "scrolled": true
   },
   "outputs": [],
   "source": [
    "import random\n",
    "i = 0\n",
    "while i < 0.5:\n",
    "    col1, col2 = random.sample(treino_media.columns, 2)\n",
    "    results = np.empty([1000, 100])\n",
    "    for alpha in range(1, 10000, 10):\n",
    "        for beta in range(1, 1000, 10):\n",
    "            soma = np.array((treino_media\n",
    "                             .with_columns(pl.sum(alpha*pl.col(col1)/10, beta*pl.col(col2)/10))\n",
    "                             )['sum'])\n",
    "            results[alpha//10][beta //\n",
    "                               10] = correlation_ratio(np.ravel(np.array(objetivo)), soma)\n",
    "    i = results.max()\n",
    "    print(i, col1, col2)"
   ]
  },
  {
   "cell_type": "code",
   "execution_count": null,
   "id": "827710b0",
   "metadata": {},
   "outputs": [],
   "source": [
    "X = np.arange(1, 10000, 10)\n",
    "Y = np.arange(1, 1000, 10)\n",
    "X, Y = np.meshgrid(X, Y)\n",
    "\n",
    "fig, (ax1, ax2) = plt.subplots(2, 2, figsize=(\n",
    "    15, 15), subplot_kw={\"projection\": \"3d\"})\n",
    "ax1[0].plot_surface(X, Y, results.T, vmin=results.min(), cmap='cividis')\n",
    "ax1[0].view_init(30, 190)\n",
    "ax2[0].plot_surface(X, Y, results.T, vmin=results.min(), cmap='cividis')\n",
    "ax2[0].view_init(30, 280)\n",
    "ax1[1].plot_surface(X, Y, results.T, vmin=results.min(), cmap='cividis')\n",
    "ax1[1].view_init(30, 100)\n",
    "ax2[1].plot_surface(X, Y, results.T, vmin=results.min(), cmap='cividis')\n",
    "ax2[1].view_init(30, 10)\n",
    "[ax.set_xlabel('alpha') for ax in list(ax1) + list(ax2)]\n",
    "[ax.set_ylabel('beta') for ax in list(ax1) + list(ax2)]\n",
    "\n",
    "\n",
    "plt.show()"
   ]
  },
  {
   "cell_type": "code",
   "execution_count": null,
   "id": "3e1155c2",
   "metadata": {},
   "outputs": [],
   "source": []
  },
  {
   "cell_type": "code",
   "execution_count": null,
   "id": "298fc8cb",
   "metadata": {},
   "outputs": [],
   "source": []
  },
  {
   "cell_type": "code",
   "execution_count": 3,
   "id": "67ec1cdc",
   "metadata": {},
   "outputs": [
    {
     "data": {
      "text/html": [
       "<div><style>\n",
       ".dataframe > thead > tr > th,\n",
       ".dataframe > tbody > tr > td {\n",
       "  text-align: right;\n",
       "  white-space: pre-wrap;\n",
       "}\n",
       "</style>\n",
       "<small>shape: (22, 16)</small><table border=\"1\" class=\"dataframe\"><thead><tr><th>R</th><th>ACS</th><th>K</th><th>D</th><th>A</th><th>K-D</th><th>KAST</th><th>ADR</th><th>HS%</th><th>FK</th><th>FD</th><th>FK-FD</th><th>scores_team_1</th><th>scores_team_2</th><th>Team</th><th>Player-name</th></tr><tr><td>f64</td><td>f64</td><td>f64</td><td>f64</td><td>f64</td><td>f64</td><td>f64</td><td>f64</td><td>f64</td><td>f64</td><td>f64</td><td>f64</td><td>str</td><td>str</td><td>str</td><td>str</td></tr></thead><tbody><tr><td>1.06</td><td>222.0</td><td>33.0</td><td>28.0</td><td>7.0</td><td>5.0</td><td>0.74</td><td>159.0</td><td>0.23</td><td>3.0</td><td>2.0</td><td>1.0</td><td>&quot;0.0&quot;</td><td>&quot;2.0&quot;</td><td>&quot;FNC&quot;</td><td>&quot;Alfajer&quot;</td></tr><tr><td>1.0</td><td>211.0</td><td>29.0</td><td>29.0</td><td>6.0</td><td>0.0</td><td>0.56</td><td>142.0</td><td>0.15</td><td>14.0</td><td>10.0</td><td>4.0</td><td>&quot;11.0&quot;</td><td>&quot;13.0&quot;</td><td>&quot;FNC&quot;</td><td>&quot;Derke&quot;</td></tr><tr><td>0.99</td><td>171.0</td><td>29.0</td><td>28.0</td><td>10.0</td><td>1.0</td><td>0.74</td><td>117.0</td><td>0.2</td><td>0.0</td><td>2.0</td><td>-2.0</td><td>&quot;6.0&quot;</td><td>&quot;13.0&quot;</td><td>&quot;FNC&quot;</td><td>&quot;Leo&quot;</td></tr><tr><td>0.9</td><td>162.0</td><td>21.0</td><td>30.0</td><td>18.0</td><td>-9.0</td><td>0.58</td><td>104.0</td><td>0.16</td><td>4.0</td><td>5.0</td><td>-1.0</td><td>null</td><td>null</td><td>&quot;FNC&quot;</td><td>&quot;Boaster&quot;</td></tr><tr><td>0.67</td><td>141.0</td><td>19.0</td><td>34.0</td><td>19.0</td><td>-15.0</td><td>0.63</td><td>99.0</td><td>0.18</td><td>1.0</td><td>2.0</td><td>-1.0</td><td>null</td><td>null</td><td>&quot;FNC&quot;</td><td>&quot;Chronicle&quot;</td></tr><tr><td>1.33</td><td>234.0</td><td>38.0</td><td>25.0</td><td>9.0</td><td>13.0</td><td>0.79</td><td>147.0</td><td>0.27</td><td>6.0</td><td>2.0</td><td>4.0</td><td>null</td><td>null</td><td>&quot;LOUD&quot;</td><td>&quot;aspas&quot;</td></tr><tr><td>1.23</td><td>223.0</td><td>34.0</td><td>25.0</td><td>5.0</td><td>9.0</td><td>0.7</td><td>146.0</td><td>0.31</td><td>5.0</td><td>6.0</td><td>-1.0</td><td>null</td><td>null</td><td>&quot;LOUD&quot;</td><td>&quot;Less&quot;</td></tr><tr><td>1.17</td><td>220.0</td><td>35.0</td><td>25.0</td><td>13.0</td><td>10.0</td><td>0.79</td><td>140.0</td><td>0.26</td><td>5.0</td><td>1.0</td><td>4.0</td><td>null</td><td>null</td><td>&quot;LOUD&quot;</td><td>&quot;cauanzin&quot;</td></tr><tr><td>0.96</td><td>136.0</td><td>20.0</td><td>24.0</td><td>26.0</td><td>-4.0</td><td>0.74</td><td>94.0</td><td>0.31</td><td>2.0</td><td>5.0</td><td>-3.0</td><td>null</td><td>null</td><td>&quot;LOUD&quot;</td><td>&quot;tuyz&quot;</td></tr><tr><td>0.81</td><td>166.0</td><td>22.0</td><td>32.0</td><td>20.0</td><td>-10.0</td><td>0.65</td><td>110.0</td><td>0.14</td><td>3.0</td><td>8.0</td><td>-5.0</td><td>null</td><td>null</td><td>&quot;LOUD&quot;</td><td>&quot;saadhak&quot;</td></tr><tr><td>null</td><td>null</td><td>null</td><td>null</td><td>null</td><td>null</td><td>null</td><td>null</td><td>null</td><td>null</td><td>null</td><td>null</td><td>null</td><td>null</td><td>null</td><td>null</td></tr><tr><td>1.46</td><td>262.0</td><td>35.0</td><td>21.0</td><td>25.0</td><td>14.0</td><td>0.93</td><td>157.0</td><td>0.31</td><td>4.0</td><td>0.0</td><td>4.0</td><td>&quot;2.0&quot;</td><td>&quot;0.0&quot;</td><td>&quot;PRX&quot;</td><td>&quot;d4v41&quot;</td></tr><tr><td>1.31</td><td>260.0</td><td>39.0</td><td>22.0</td><td>5.0</td><td>17.0</td><td>0.73</td><td>165.0</td><td>0.3</td><td>10.0</td><td>6.0</td><td>4.0</td><td>&quot;13.0&quot;</td><td>&quot;10.0&quot;</td><td>&quot;PRX&quot;</td><td>&quot;something&quot;</td></tr><tr><td>1.27</td><td>268.0</td><td>36.0</td><td>28.0</td><td>13.0</td><td>8.0</td><td>0.83</td><td>177.0</td><td>0.27</td><td>3.0</td><td>1.0</td><td>2.0</td><td>&quot;13.0&quot;</td><td>&quot;4.0&quot;</td><td>&quot;PRX&quot;</td><td>&quot;f0rsakeN&quot;</td></tr><tr><td>0.93</td><td>186.0</td><td>30.0</td><td>27.0</td><td>7.0</td><td>3.0</td><td>0.65</td><td>119.0</td><td>0.21</td><td>5.0</td><td>9.0</td><td>-4.0</td><td>null</td><td>null</td><td>&quot;PRX&quot;</td><td>&quot;Jinggg&quot;</td></tr><tr><td>0.89</td><td>118.0</td><td>19.0</td><td>19.0</td><td>7.0</td><td>0.0</td><td>0.68</td><td>73.0</td><td>0.26</td><td>1.0</td><td>1.0</td><td>0.0</td><td>null</td><td>null</td><td>&quot;PRX&quot;</td><td>&quot;mindfreak&quot;</td></tr><tr><td>1.02</td><td>228.0</td><td>31.0</td><td>33.0</td><td>8.0</td><td>-2.0</td><td>0.7</td><td>171.0</td><td>0.31</td><td>3.0</td><td>3.0</td><td>0.0</td><td>null</td><td>null</td><td>&quot;FUT&quot;</td><td>&quot;MrFaliN&quot;</td></tr><tr><td>0.82</td><td>198.0</td><td>28.0</td><td>33.0</td><td>5.0</td><td>-5.0</td><td>0.65</td><td>127.0</td><td>0.23</td><td>7.0</td><td>6.0</td><td>1.0</td><td>null</td><td>null</td><td>&quot;FUT&quot;</td><td>&quot;qw1&quot;</td></tr><tr><td>0.81</td><td>181.0</td><td>21.0</td><td>31.0</td><td>14.0</td><td>-10.0</td><td>0.6</td><td>120.0</td><td>0.23</td><td>4.0</td><td>8.0</td><td>-4.0</td><td>null</td><td>null</td><td>&quot;FUT&quot;</td><td>&quot;AtaKaptan&quot;</td></tr><tr><td>0.74</td><td>135.0</td><td>18.0</td><td>30.0</td><td>6.0</td><td>-12.0</td><td>0.58</td><td>93.0</td><td>0.21</td><td>3.0</td><td>3.0</td><td>0.0</td><td>null</td><td>null</td><td>&quot;FUT&quot;</td><td>&quot;MOJJ&quot;</td></tr><tr><td>0.66</td><td>146.0</td><td>19.0</td><td>32.0</td><td>16.0</td><td>-13.0</td><td>0.73</td><td>115.0</td><td>0.27</td><td>0.0</td><td>3.0</td><td>-3.0</td><td>null</td><td>null</td><td>&quot;FUT&quot;</td><td>&quot;qRaxs&quot;</td></tr><tr><td>null</td><td>null</td><td>null</td><td>null</td><td>null</td><td>null</td><td>null</td><td>null</td><td>null</td><td>null</td><td>null</td><td>null</td><td>null</td><td>null</td><td>null</td><td>null</td></tr></tbody></table></div>"
      ],
      "text/plain": [
       "shape: (22, 16)\n",
       "┌──────┬───────┬──────┬──────┬───┬───────────────┬───────────────┬──────┬─────────────┐\n",
       "│ R    ┆ ACS   ┆ K    ┆ D    ┆ … ┆ scores_team_1 ┆ scores_team_2 ┆ Team ┆ Player-name │\n",
       "│ ---  ┆ ---   ┆ ---  ┆ ---  ┆   ┆ ---           ┆ ---           ┆ ---  ┆ ---         │\n",
       "│ f64  ┆ f64   ┆ f64  ┆ f64  ┆   ┆ str           ┆ str           ┆ str  ┆ str         │\n",
       "╞══════╪═══════╪══════╪══════╪═══╪═══════════════╪═══════════════╪══════╪═════════════╡\n",
       "│ 1.06 ┆ 222.0 ┆ 33.0 ┆ 28.0 ┆ … ┆ 0.0           ┆ 2.0           ┆ FNC  ┆ Alfajer     │\n",
       "│ 1.0  ┆ 211.0 ┆ 29.0 ┆ 29.0 ┆ … ┆ 11.0          ┆ 13.0          ┆ FNC  ┆ Derke       │\n",
       "│ 0.99 ┆ 171.0 ┆ 29.0 ┆ 28.0 ┆ … ┆ 6.0           ┆ 13.0          ┆ FNC  ┆ Leo         │\n",
       "│ 0.9  ┆ 162.0 ┆ 21.0 ┆ 30.0 ┆ … ┆ null          ┆ null          ┆ FNC  ┆ Boaster     │\n",
       "│ …    ┆ …     ┆ …    ┆ …    ┆ … ┆ …             ┆ …             ┆ …    ┆ …           │\n",
       "│ 0.81 ┆ 181.0 ┆ 21.0 ┆ 31.0 ┆ … ┆ null          ┆ null          ┆ FUT  ┆ AtaKaptan   │\n",
       "│ 0.74 ┆ 135.0 ┆ 18.0 ┆ 30.0 ┆ … ┆ null          ┆ null          ┆ FUT  ┆ MOJJ        │\n",
       "│ 0.66 ┆ 146.0 ┆ 19.0 ┆ 32.0 ┆ … ┆ null          ┆ null          ┆ FUT  ┆ qRaxs       │\n",
       "│ null ┆ null  ┆ null ┆ null ┆ … ┆ null          ┆ null          ┆ null ┆ null        │\n",
       "└──────┴───────┴──────┴──────┴───┴───────────────┴───────────────┴──────┴─────────────┘"
      ]
     },
     "execution_count": 3,
     "metadata": {},
     "output_type": "execute_result"
    }
   ],
   "source": [
    "(pl.read_csv('jogos_por_dia\\\\2023-08-16.csv', infer_schema_length=0).select(\n",
    "    #         ~cs.contains(('Map', '-t','-ct'))\n",
    "    ~cs.contains(('Map '))\n",
    ")\n",
    "    .drop(['', 'Unnamed: 1'])\n",
    "    .with_columns(pl.col('D').str.extract(r'(\\d+)', 0))\n",
    "    .with_columns(pl.col(['R', 'ACS', 'K', 'A', 'ADR', 'FK', 'FD', 'HS%', 'KAST', '+/–', '+/–.1']).str.split('  ').list.first())\n",
    "    .with_columns(pl.col('HS%', 'KAST').str.strip_chars('%'))\n",
    "    .with_columns(pl.col(['R', 'ACS', 'D', 'K', 'A', 'ADR', 'FK', 'FD', 'HS%', 'KAST', '+/–', '+/–.1']).cast(pl.Float64))\n",
    "    .with_columns(pl.col('HS%', 'KAST')/100)\n",
    "    .with_columns(pl.col('Unnamed: 0').str.split(' ').alias('fields'))\n",
    "    .with_columns(pl.col('fields').list.reverse())\n",
    "    .with_columns(pl.col('fields').list.first().alias('Team'))\n",
    "    .with_columns(pl.col('fields').list.slice(1).list.join(' ').alias('Player-name'))\n",
    "    .drop(['fields', 'Unnamed: 0'])\n",
    "    .rename({'+/–': 'K-D', '+/–.1': 'FK-FD'})\n",
    ")"
   ]
  }
 ],
 "metadata": {
  "kernelspec": {
   "display_name": "Python 3 (ipykernel)",
   "language": "python",
   "name": "python3"
  },
  "language_info": {
   "codemirror_mode": {
    "name": "ipython",
    "version": 3
   },
   "file_extension": ".py",
   "mimetype": "text/x-python",
   "name": "python",
   "nbconvert_exporter": "python",
   "pygments_lexer": "ipython3",
   "version": "3.9.18"
  }
 },
 "nbformat": 4,
 "nbformat_minor": 5
}
